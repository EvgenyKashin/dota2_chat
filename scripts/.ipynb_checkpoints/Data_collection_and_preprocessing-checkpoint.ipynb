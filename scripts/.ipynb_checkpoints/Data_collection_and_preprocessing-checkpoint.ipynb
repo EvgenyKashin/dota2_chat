{
 "cells": [
  {
   "cell_type": "code",
   "execution_count": 1,
   "id": "24adf088",
   "metadata": {},
   "outputs": [],
   "source": [
    "import json\n",
    "import pandas as pd\n",
    "import datetime\n",
    "\n",
    "import matplotlib.pyplot as plt\n",
    "\n",
    "pd.set_option('display.max_columns', 100)"
   ]
  },
  {
   "cell_type": "markdown",
   "id": "b98313ce",
   "metadata": {},
   "source": [
    "## Public matches (general info)"
   ]
  },
  {
   "cell_type": "markdown",
   "id": "b9e34e92",
   "metadata": {},
   "source": [
    "The downloading process was splitted into few parts (three). I check it with the same code and merge at the end of the notebook."
   ]
  },
  {
   "cell_type": "code",
   "execution_count": 2,
   "id": "dccb6000",
   "metadata": {},
   "outputs": [
    {
     "ename": "FileNotFoundError",
     "evalue": "[Errno 2] No such file or directory: '../data/public_matches_p3.json'",
     "output_type": "error",
     "traceback": [
      "\u001b[1;31m---------------------------------------------------------------------------\u001b[0m",
      "\u001b[1;31mFileNotFoundError\u001b[0m                         Traceback (most recent call last)",
      "\u001b[1;32m~\\AppData\\Local\\Temp/ipykernel_12944/1915016262.py\u001b[0m in \u001b[0;36m<module>\u001b[1;34m\u001b[0m\n\u001b[0;32m      1\u001b[0m \u001b[0mpath_suffix\u001b[0m \u001b[1;33m=\u001b[0m \u001b[1;34m'_p3'\u001b[0m\u001b[1;33m\u001b[0m\u001b[1;33m\u001b[0m\u001b[0m\n\u001b[0;32m      2\u001b[0m \u001b[1;33m\u001b[0m\u001b[0m\n\u001b[1;32m----> 3\u001b[1;33m \u001b[1;32mwith\u001b[0m \u001b[0mopen\u001b[0m\u001b[1;33m(\u001b[0m\u001b[1;34mf'../data/public_matches{path_suffix}.json'\u001b[0m\u001b[1;33m)\u001b[0m \u001b[1;32mas\u001b[0m \u001b[0mf\u001b[0m\u001b[1;33m:\u001b[0m\u001b[1;33m\u001b[0m\u001b[1;33m\u001b[0m\u001b[0m\n\u001b[0m\u001b[0;32m      4\u001b[0m     \u001b[0mpublic_matches\u001b[0m \u001b[1;33m=\u001b[0m \u001b[0mjson\u001b[0m\u001b[1;33m.\u001b[0m\u001b[0mload\u001b[0m\u001b[1;33m(\u001b[0m\u001b[0mf\u001b[0m\u001b[1;33m)\u001b[0m\u001b[1;33m\u001b[0m\u001b[1;33m\u001b[0m\u001b[0m\n",
      "\u001b[1;31mFileNotFoundError\u001b[0m: [Errno 2] No such file or directory: '../data/public_matches_p3.json'"
     ]
    }
   ],
   "source": [
    "path_suffix = '_p3'\n",
    "\n",
    "with open(f'../data/public_matches{path_suffix}.json') as f:\n",
    "    public_matches = json.load(f)"
   ]
  },
  {
   "cell_type": "code",
   "execution_count": 259,
   "id": "cb104507",
   "metadata": {},
   "outputs": [
    {
     "data": {
      "text/plain": [
       "{dict}"
      ]
     },
     "execution_count": 259,
     "metadata": {},
     "output_type": "execute_result"
    }
   ],
   "source": [
    "set([type(x) for x in public_matches])"
   ]
  },
  {
   "cell_type": "markdown",
   "id": "e18a1bc1",
   "metadata": {},
   "source": [
    "Skip errors in the data if any type except \"dict\" exists"
   ]
  },
  {
   "cell_type": "code",
   "execution_count": 260,
   "id": "f24669dc",
   "metadata": {},
   "outputs": [],
   "source": [
    "# public_matches = [x for x in public_matches \\\n",
    "#                   if type(x) == dict]\n",
    "\n",
    "# with open('../data/public_matches_p3.json', 'w') as f:\n",
    "#     json.dump(public_matches, f)"
   ]
  },
  {
   "cell_type": "code",
   "execution_count": 261,
   "id": "d9c9592b",
   "metadata": {},
   "outputs": [],
   "source": [
    "public_matches_df = pd.DataFrame(public_matches)\n",
    "public_matches_df['start_time'] = pd.to_datetime(\n",
    "    public_matches_df.start_time,unit='s')"
   ]
  },
  {
   "cell_type": "code",
   "execution_count": 262,
   "id": "81884938",
   "metadata": {},
   "outputs": [
    {
     "data": {
      "text/plain": [
       "(67200, 14)"
      ]
     },
     "execution_count": 262,
     "metadata": {},
     "output_type": "execute_result"
    }
   ],
   "source": [
    "public_matches_df.shape"
   ]
  },
  {
   "cell_type": "code",
   "execution_count": 263,
   "id": "7e033741",
   "metadata": {},
   "outputs": [
    {
     "data": {
      "text/html": [
       "<div>\n",
       "<style scoped>\n",
       "    .dataframe tbody tr th:only-of-type {\n",
       "        vertical-align: middle;\n",
       "    }\n",
       "\n",
       "    .dataframe tbody tr th {\n",
       "        vertical-align: top;\n",
       "    }\n",
       "\n",
       "    .dataframe thead th {\n",
       "        text-align: right;\n",
       "    }\n",
       "</style>\n",
       "<table border=\"1\" class=\"dataframe\">\n",
       "  <thead>\n",
       "    <tr style=\"text-align: right;\">\n",
       "      <th></th>\n",
       "      <th>match_id</th>\n",
       "      <th>match_seq_num</th>\n",
       "      <th>radiant_win</th>\n",
       "      <th>start_time</th>\n",
       "      <th>duration</th>\n",
       "      <th>avg_mmr</th>\n",
       "      <th>num_mmr</th>\n",
       "      <th>lobby_type</th>\n",
       "      <th>game_mode</th>\n",
       "      <th>avg_rank_tier</th>\n",
       "      <th>num_rank_tier</th>\n",
       "      <th>cluster</th>\n",
       "      <th>radiant_team</th>\n",
       "      <th>dire_team</th>\n",
       "    </tr>\n",
       "  </thead>\n",
       "  <tbody>\n",
       "    <tr>\n",
       "      <th>0</th>\n",
       "      <td>6805855803</td>\n",
       "      <td>5698885793</td>\n",
       "      <td>False</td>\n",
       "      <td>2022-10-14 21:36:48</td>\n",
       "      <td>2909</td>\n",
       "      <td>NaN</td>\n",
       "      <td>NaN</td>\n",
       "      <td>0</td>\n",
       "      <td>22</td>\n",
       "      <td>21</td>\n",
       "      <td>2</td>\n",
       "      <td>182</td>\n",
       "      <td>46,109,105,34,103</td>\n",
       "      <td>11,67,31,71,85</td>\n",
       "    </tr>\n",
       "    <tr>\n",
       "      <th>1</th>\n",
       "      <td>6805855802</td>\n",
       "      <td>5698879264</td>\n",
       "      <td>False</td>\n",
       "      <td>2022-10-14 21:36:48</td>\n",
       "      <td>2400</td>\n",
       "      <td>2414.0</td>\n",
       "      <td>4.0</td>\n",
       "      <td>7</td>\n",
       "      <td>22</td>\n",
       "      <td>54</td>\n",
       "      <td>6</td>\n",
       "      <td>186</td>\n",
       "      <td>9,28,62,70,26</td>\n",
       "      <td>8,123,16,31,84</td>\n",
       "    </tr>\n",
       "    <tr>\n",
       "      <th>2</th>\n",
       "      <td>6805855801</td>\n",
       "      <td>5698878881</td>\n",
       "      <td>False</td>\n",
       "      <td>2022-10-14 21:36:38</td>\n",
       "      <td>2422</td>\n",
       "      <td>4083.0</td>\n",
       "      <td>1.0</td>\n",
       "      <td>7</td>\n",
       "      <td>22</td>\n",
       "      <td>51</td>\n",
       "      <td>5</td>\n",
       "      <td>185</td>\n",
       "      <td>96,11,46,79,123</td>\n",
       "      <td>62,105,128,94,74</td>\n",
       "    </tr>\n",
       "    <tr>\n",
       "      <th>3</th>\n",
       "      <td>6805855800</td>\n",
       "      <td>5698881554</td>\n",
       "      <td>True</td>\n",
       "      <td>2022-10-14 21:36:14</td>\n",
       "      <td>2523</td>\n",
       "      <td>NaN</td>\n",
       "      <td>NaN</td>\n",
       "      <td>7</td>\n",
       "      <td>22</td>\n",
       "      <td>44</td>\n",
       "      <td>3</td>\n",
       "      <td>153</td>\n",
       "      <td>68,39,28,20,6</td>\n",
       "      <td>40,54,123,87,2</td>\n",
       "    </tr>\n",
       "    <tr>\n",
       "      <th>4</th>\n",
       "      <td>6805855716</td>\n",
       "      <td>5698889983</td>\n",
       "      <td>False</td>\n",
       "      <td>2022-10-14 21:36:44</td>\n",
       "      <td>3261</td>\n",
       "      <td>4062.0</td>\n",
       "      <td>5.0</td>\n",
       "      <td>7</td>\n",
       "      <td>22</td>\n",
       "      <td>71</td>\n",
       "      <td>8</td>\n",
       "      <td>188</td>\n",
       "      <td>120,112,19,85,1</td>\n",
       "      <td>86,29,8,40,34</td>\n",
       "    </tr>\n",
       "  </tbody>\n",
       "</table>\n",
       "</div>"
      ],
      "text/plain": [
       "     match_id  match_seq_num  radiant_win          start_time  duration  \\\n",
       "0  6805855803     5698885793        False 2022-10-14 21:36:48      2909   \n",
       "1  6805855802     5698879264        False 2022-10-14 21:36:48      2400   \n",
       "2  6805855801     5698878881        False 2022-10-14 21:36:38      2422   \n",
       "3  6805855800     5698881554         True 2022-10-14 21:36:14      2523   \n",
       "4  6805855716     5698889983        False 2022-10-14 21:36:44      3261   \n",
       "\n",
       "   avg_mmr  num_mmr  lobby_type  game_mode  avg_rank_tier  num_rank_tier  \\\n",
       "0      NaN      NaN           0         22             21              2   \n",
       "1   2414.0      4.0           7         22             54              6   \n",
       "2   4083.0      1.0           7         22             51              5   \n",
       "3      NaN      NaN           7         22             44              3   \n",
       "4   4062.0      5.0           7         22             71              8   \n",
       "\n",
       "   cluster       radiant_team         dire_team  \n",
       "0      182  46,109,105,34,103    11,67,31,71,85  \n",
       "1      186      9,28,62,70,26    8,123,16,31,84  \n",
       "2      185    96,11,46,79,123  62,105,128,94,74  \n",
       "3      153      68,39,28,20,6    40,54,123,87,2  \n",
       "4      188    120,112,19,85,1     86,29,8,40,34  "
      ]
     },
     "execution_count": 263,
     "metadata": {},
     "output_type": "execute_result"
    }
   ],
   "source": [
    "public_matches_df.head()"
   ]
  },
  {
   "cell_type": "code",
   "execution_count": 264,
   "id": "d8bbeef5",
   "metadata": {},
   "outputs": [
    {
     "data": {
      "text/plain": [
       "0       2022-10-14 21:36:48\n",
       "1       2022-10-14 21:36:48\n",
       "2       2022-10-14 21:36:38\n",
       "3       2022-10-14 21:36:14\n",
       "4       2022-10-14 21:36:44\n",
       "                ...        \n",
       "67195   2022-10-14 08:16:59\n",
       "67196   2022-10-14 08:17:00\n",
       "67197   2022-10-14 08:16:59\n",
       "67198   2022-10-14 08:16:50\n",
       "67199   2022-10-14 08:16:50\n",
       "Name: start_time, Length: 67200, dtype: datetime64[ns]"
      ]
     },
     "execution_count": 264,
     "metadata": {},
     "output_type": "execute_result"
    }
   ],
   "source": [
    "public_matches_df.start_time"
   ]
  },
  {
   "cell_type": "code",
   "execution_count": 265,
   "id": "25207485",
   "metadata": {},
   "outputs": [
    {
     "data": {
      "text/plain": [
       "<AxesSubplot: >"
      ]
     },
     "execution_count": 265,
     "metadata": {},
     "output_type": "execute_result"
    },
    {
     "data": {
      "image/png": "[encoded data removed]",
      "text/plain": [
       "<Figure size 640x480 with 1 Axes>"
      ]
     },
     "metadata": {},
     "output_type": "display_data"
    }
   ],
   "source": [
    "public_matches_df.duration.hist()"
   ]
  },
  {
   "cell_type": "code",
   "execution_count": 266,
   "id": "41bfc657",
   "metadata": {},
   "outputs": [
    {
     "data": {
      "text/plain": [
       "20.083166666666667"
      ]
     },
     "execution_count": 266,
     "metadata": {},
     "output_type": "execute_result"
    }
   ],
   "source": [
    "public_matches_df.duration.quantile(0.01) / 60"
   ]
  },
  {
   "cell_type": "code",
   "execution_count": 267,
   "id": "1c92544f",
   "metadata": {},
   "outputs": [
    {
     "data": {
      "text/plain": [
       "<AxesSubplot: >"
      ]
     },
     "execution_count": 267,
     "metadata": {},
     "output_type": "execute_result"
    },
    {
     "data": {
      "image/png": "[encoded data removed]",
      "text/plain": [
       "<Figure size 640x480 with 1 Axes>"
      ]
     },
     "metadata": {},
     "output_type": "display_data"
    }
   ],
   "source": [
    "public_matches_df.avg_mmr.hist()"
   ]
  },
  {
   "cell_type": "code",
   "execution_count": 268,
   "id": "c13438af",
   "metadata": {},
   "outputs": [
    {
     "data": {
      "text/plain": [
       "7    51276\n",
       "0    15903\n",
       "1       21\n",
       "Name: lobby_type, dtype: int64"
      ]
     },
     "execution_count": 268,
     "metadata": {},
     "output_type": "execute_result"
    }
   ],
   "source": [
    "# https://github.com/odota/dotaconstants/blob/master/json/lobby_type.json\n",
    "public_matches_df.lobby_type.value_counts()"
   ]
  },
  {
   "cell_type": "code",
   "execution_count": 269,
   "id": "b5e930be",
   "metadata": {},
   "outputs": [
    {
     "data": {
      "text/plain": [
       "22    61422\n",
       "4      3219\n",
       "3      2358\n",
       "2       125\n",
       "5        71\n",
       "16        5\n",
       "Name: game_mode, dtype: int64"
      ]
     },
     "execution_count": 269,
     "metadata": {},
     "output_type": "execute_result"
    }
   ],
   "source": [
    "# https://github.com/odota/dotaconstants/blob/master/json/game_mode.json\n",
    "public_matches_df.game_mode.value_counts()"
   ]
  },
  {
   "cell_type": "code",
   "execution_count": 270,
   "id": "d4db38db",
   "metadata": {},
   "outputs": [
    {
     "data": {
      "text/plain": [
       "<AxesSubplot: >"
      ]
     },
     "execution_count": 270,
     "metadata": {},
     "output_type": "execute_result"
    },
    {
     "data": {
      "image/png": "[encoded data removed]",
      "text/plain": [
       "<Figure size 640x480 with 1 Axes>"
      ]
     },
     "metadata": {},
     "output_type": "display_data"
    }
   ],
   "source": [
    "public_matches_df.cluster.hist()"
   ]
  },
  {
   "cell_type": "markdown",
   "id": "59e2463b",
   "metadata": {},
   "source": [
    "## Public matches details (with chat data)"
   ]
  },
  {
   "cell_type": "code",
   "execution_count": 271,
   "id": "eac945b2",
   "metadata": {},
   "outputs": [],
   "source": [
    "with open(f'../data/matches_details{path_suffix}.json') as f:\n",
    "    matches_details = json.load(f)"
   ]
  },
  {
   "cell_type": "markdown",
   "id": "c13cdb18",
   "metadata": {},
   "source": [
    "### Fix JSON file (in case of corruption during write)"
   ]
  },
  {
   "cell_type": "markdown",
   "id": "33d834f1",
   "metadata": {},
   "source": [
    "Uncomment to fix a corrupted file"
   ]
  },
  {
   "cell_type": "code",
   "execution_count": 272,
   "id": "5fb05dd2",
   "metadata": {},
   "outputs": [],
   "source": [
    "# with open(f'../data/matches_details{path_suffix}.json') as f:\n",
    "#     matches_details_lines = f.readlines()\n",
    "\n",
    "# check_n_last = 30_000"
   ]
  },
  {
   "cell_type": "code",
   "execution_count": 273,
   "id": "c3edfa71",
   "metadata": {},
   "outputs": [],
   "source": [
    "# # search for \"barracks_status_dire\"\n",
    "# matches_details_lines[0][-check_n_last:]"
   ]
  },
  {
   "cell_type": "code",
   "execution_count": 274,
   "id": "dd8d394b",
   "metadata": {},
   "outputs": [],
   "source": [
    "# index_f = matches_details_lines[0][-check_n_last:].index(\n",
    "#     '6806517003_1878434094.dem.bz2')\n",
    "\n",
    "# matches_details_lines_fix = (matches_details_lines[0]\\\n",
    "#  [:-(check_n_last - index_f - 31)] + ']')"
   ]
  },
  {
   "cell_type": "code",
   "execution_count": 275,
   "id": "e8203bd4",
   "metadata": {},
   "outputs": [],
   "source": [
    "# matches_details_lines_fix[-100:]"
   ]
  },
  {
   "cell_type": "code",
   "execution_count": 276,
   "id": "68a38664",
   "metadata": {},
   "outputs": [],
   "source": [
    "# matches_details_lines_fix = json.loads(\n",
    "#     matches_details_lines_fix)\n",
    "\n",
    "# with open(f'../data/matches_details{path_suffix}_fix.json', 'w') as f:\n",
    "#     json.dump(matches_details_lines_fix, f)"
   ]
  },
  {
   "cell_type": "markdown",
   "id": "aac7b35c",
   "metadata": {},
   "source": [
    "End of the file fix"
   ]
  },
  {
   "cell_type": "markdown",
   "id": "da781ac1",
   "metadata": {},
   "source": [
    "---"
   ]
  },
  {
   "cell_type": "code",
   "execution_count": 277,
   "id": "dce372f6",
   "metadata": {},
   "outputs": [],
   "source": [
    "matches_details_df = pd.DataFrame(matches_details)"
   ]
  },
  {
   "cell_type": "code",
   "execution_count": 278,
   "id": "0116a382",
   "metadata": {},
   "outputs": [
    {
     "data": {
      "text/plain": [
       "(66956, 48)"
      ]
     },
     "execution_count": 278,
     "metadata": {},
     "output_type": "execute_result"
    }
   ],
   "source": [
    "matches_details_df.shape"
   ]
  },
  {
   "cell_type": "code",
   "execution_count": 279,
   "id": "01e6bc92",
   "metadata": {},
   "outputs": [
    {
     "data": {
      "text/html": [
       "<div>\n",
       "<style scoped>\n",
       "    .dataframe tbody tr th:only-of-type {\n",
       "        vertical-align: middle;\n",
       "    }\n",
       "\n",
       "    .dataframe tbody tr th {\n",
       "        vertical-align: top;\n",
       "    }\n",
       "\n",
       "    .dataframe thead th {\n",
       "        text-align: right;\n",
       "    }\n",
       "</style>\n",
       "<table border=\"1\" class=\"dataframe\">\n",
       "  <thead>\n",
       "    <tr style=\"text-align: right;\">\n",
       "      <th></th>\n",
       "      <th>match_id</th>\n",
       "      <th>barracks_status_dire</th>\n",
       "      <th>barracks_status_radiant</th>\n",
       "      <th>chat</th>\n",
       "      <th>cluster</th>\n",
       "      <th>cosmetics</th>\n",
       "      <th>dire_score</th>\n",
       "      <th>dire_team_id</th>\n",
       "      <th>draft_timings</th>\n",
       "      <th>duration</th>\n",
       "      <th>engine</th>\n",
       "      <th>first_blood_time</th>\n",
       "      <th>game_mode</th>\n",
       "      <th>human_players</th>\n",
       "      <th>leagueid</th>\n",
       "      <th>lobby_type</th>\n",
       "      <th>match_seq_num</th>\n",
       "      <th>negative_votes</th>\n",
       "      <th>objectives</th>\n",
       "      <th>picks_bans</th>\n",
       "      <th>positive_votes</th>\n",
       "      <th>radiant_gold_adv</th>\n",
       "      <th>radiant_score</th>\n",
       "      <th>radiant_team_id</th>\n",
       "      <th>radiant_win</th>\n",
       "      <th>radiant_xp_adv</th>\n",
       "      <th>skill</th>\n",
       "      <th>start_time</th>\n",
       "      <th>teamfights</th>\n",
       "      <th>tower_status_dire</th>\n",
       "      <th>tower_status_radiant</th>\n",
       "      <th>version</th>\n",
       "      <th>replay_salt</th>\n",
       "      <th>series_id</th>\n",
       "      <th>series_type</th>\n",
       "      <th>players</th>\n",
       "      <th>patch</th>\n",
       "      <th>region</th>\n",
       "      <th>replay_url</th>\n",
       "      <th>all_word_counts</th>\n",
       "      <th>my_word_counts</th>\n",
       "      <th>comeback</th>\n",
       "      <th>stomp</th>\n",
       "      <th>throw</th>\n",
       "      <th>loss</th>\n",
       "      <th>league</th>\n",
       "      <th>radiant_team</th>\n",
       "      <th>dire_team</th>\n",
       "    </tr>\n",
       "  </thead>\n",
       "  <tbody>\n",
       "    <tr>\n",
       "      <th>66951</th>\n",
       "      <td>6804865010</td>\n",
       "      <td>63</td>\n",
       "      <td>15</td>\n",
       "      <td>None</td>\n",
       "      <td>223</td>\n",
       "      <td>None</td>\n",
       "      <td>46</td>\n",
       "      <td>NaN</td>\n",
       "      <td>None</td>\n",
       "      <td>2208</td>\n",
       "      <td>1</td>\n",
       "      <td>127</td>\n",
       "      <td>22</td>\n",
       "      <td>10</td>\n",
       "      <td>0</td>\n",
       "      <td>0</td>\n",
       "      <td>5697998136</td>\n",
       "      <td>0</td>\n",
       "      <td>None</td>\n",
       "      <td>[{'is_pick': True, 'hero_id': 14, 'team': 1, '...</td>\n",
       "      <td>0</td>\n",
       "      <td>None</td>\n",
       "      <td>28</td>\n",
       "      <td>NaN</td>\n",
       "      <td>False</td>\n",
       "      <td>None</td>\n",
       "      <td>None</td>\n",
       "      <td>1665743584</td>\n",
       "      <td>None</td>\n",
       "      <td>1974</td>\n",
       "      <td>38</td>\n",
       "      <td>NaN</td>\n",
       "      <td>6.770818e+08</td>\n",
       "      <td>0.0</td>\n",
       "      <td>0.0</td>\n",
       "      <td>[{'match_id': 6804865010, 'player_slot': 0, 'a...</td>\n",
       "      <td>51</td>\n",
       "      <td>18</td>\n",
       "      <td>http://replay223.valve.net/570/6804865010_6770...</td>\n",
       "      <td>NaN</td>\n",
       "      <td>NaN</td>\n",
       "      <td>NaN</td>\n",
       "      <td>NaN</td>\n",
       "      <td>NaN</td>\n",
       "      <td>NaN</td>\n",
       "      <td>NaN</td>\n",
       "      <td>NaN</td>\n",
       "      <td>NaN</td>\n",
       "    </tr>\n",
       "    <tr>\n",
       "      <th>66952</th>\n",
       "      <td>6805389302</td>\n",
       "      <td>0</td>\n",
       "      <td>63</td>\n",
       "      <td>None</td>\n",
       "      <td>182</td>\n",
       "      <td>None</td>\n",
       "      <td>11</td>\n",
       "      <td>NaN</td>\n",
       "      <td>None</td>\n",
       "      <td>1735</td>\n",
       "      <td>1</td>\n",
       "      <td>0</td>\n",
       "      <td>22</td>\n",
       "      <td>10</td>\n",
       "      <td>0</td>\n",
       "      <td>7</td>\n",
       "      <td>5698455760</td>\n",
       "      <td>0</td>\n",
       "      <td>None</td>\n",
       "      <td>[{'is_pick': True, 'hero_id': 73, 'team': 0, '...</td>\n",
       "      <td>0</td>\n",
       "      <td>None</td>\n",
       "      <td>44</td>\n",
       "      <td>NaN</td>\n",
       "      <td>True</td>\n",
       "      <td>None</td>\n",
       "      <td>None</td>\n",
       "      <td>1665762989</td>\n",
       "      <td>None</td>\n",
       "      <td>0</td>\n",
       "      <td>1983</td>\n",
       "      <td>NaN</td>\n",
       "      <td>7.222479e+08</td>\n",
       "      <td>0.0</td>\n",
       "      <td>0.0</td>\n",
       "      <td>[{'match_id': 6805389302, 'player_slot': 0, 'a...</td>\n",
       "      <td>51</td>\n",
       "      <td>8</td>\n",
       "      <td>http://replay182.valve.net/570/6805389302_7222...</td>\n",
       "      <td>NaN</td>\n",
       "      <td>NaN</td>\n",
       "      <td>NaN</td>\n",
       "      <td>NaN</td>\n",
       "      <td>NaN</td>\n",
       "      <td>NaN</td>\n",
       "      <td>NaN</td>\n",
       "      <td>NaN</td>\n",
       "      <td>NaN</td>\n",
       "    </tr>\n",
       "    <tr>\n",
       "      <th>66953</th>\n",
       "      <td>6805389306</td>\n",
       "      <td>51</td>\n",
       "      <td>63</td>\n",
       "      <td>None</td>\n",
       "      <td>153</td>\n",
       "      <td>None</td>\n",
       "      <td>57</td>\n",
       "      <td>NaN</td>\n",
       "      <td>None</td>\n",
       "      <td>3715</td>\n",
       "      <td>1</td>\n",
       "      <td>69</td>\n",
       "      <td>22</td>\n",
       "      <td>10</td>\n",
       "      <td>0</td>\n",
       "      <td>7</td>\n",
       "      <td>5698496669</td>\n",
       "      <td>0</td>\n",
       "      <td>None</td>\n",
       "      <td>[{'is_pick': True, 'hero_id': 47, 'team': 0, '...</td>\n",
       "      <td>0</td>\n",
       "      <td>None</td>\n",
       "      <td>70</td>\n",
       "      <td>NaN</td>\n",
       "      <td>True</td>\n",
       "      <td>None</td>\n",
       "      <td>None</td>\n",
       "      <td>1665762999</td>\n",
       "      <td>None</td>\n",
       "      <td>260</td>\n",
       "      <td>1828</td>\n",
       "      <td>NaN</td>\n",
       "      <td>4.312766e+08</td>\n",
       "      <td>0.0</td>\n",
       "      <td>0.0</td>\n",
       "      <td>[{'match_id': 6805389306, 'player_slot': 0, 'a...</td>\n",
       "      <td>51</td>\n",
       "      <td>5</td>\n",
       "      <td>http://replay153.valve.net/570/6805389306_4312...</td>\n",
       "      <td>NaN</td>\n",
       "      <td>NaN</td>\n",
       "      <td>NaN</td>\n",
       "      <td>NaN</td>\n",
       "      <td>NaN</td>\n",
       "      <td>NaN</td>\n",
       "      <td>NaN</td>\n",
       "      <td>NaN</td>\n",
       "      <td>NaN</td>\n",
       "    </tr>\n",
       "    <tr>\n",
       "      <th>66954</th>\n",
       "      <td>6805389310</td>\n",
       "      <td>60</td>\n",
       "      <td>3</td>\n",
       "      <td>None</td>\n",
       "      <td>154</td>\n",
       "      <td>None</td>\n",
       "      <td>54</td>\n",
       "      <td>NaN</td>\n",
       "      <td>None</td>\n",
       "      <td>2950</td>\n",
       "      <td>1</td>\n",
       "      <td>397</td>\n",
       "      <td>22</td>\n",
       "      <td>10</td>\n",
       "      <td>0</td>\n",
       "      <td>7</td>\n",
       "      <td>5698478138</td>\n",
       "      <td>0</td>\n",
       "      <td>None</td>\n",
       "      <td>[{'is_pick': True, 'hero_id': 84, 'team': 1, '...</td>\n",
       "      <td>0</td>\n",
       "      <td>None</td>\n",
       "      <td>31</td>\n",
       "      <td>NaN</td>\n",
       "      <td>False</td>\n",
       "      <td>None</td>\n",
       "      <td>None</td>\n",
       "      <td>1665762999</td>\n",
       "      <td>None</td>\n",
       "      <td>1840</td>\n",
       "      <td>4</td>\n",
       "      <td>NaN</td>\n",
       "      <td>1.732405e+09</td>\n",
       "      <td>0.0</td>\n",
       "      <td>0.0</td>\n",
       "      <td>[{'match_id': 6805389310, 'player_slot': 0, 'a...</td>\n",
       "      <td>51</td>\n",
       "      <td>5</td>\n",
       "      <td>http://replay154.valve.net/570/6805389310_1732...</td>\n",
       "      <td>NaN</td>\n",
       "      <td>NaN</td>\n",
       "      <td>NaN</td>\n",
       "      <td>NaN</td>\n",
       "      <td>NaN</td>\n",
       "      <td>NaN</td>\n",
       "      <td>NaN</td>\n",
       "      <td>NaN</td>\n",
       "      <td>NaN</td>\n",
       "    </tr>\n",
       "    <tr>\n",
       "      <th>66955</th>\n",
       "      <td>6805389308</td>\n",
       "      <td>63</td>\n",
       "      <td>15</td>\n",
       "      <td>None</td>\n",
       "      <td>183</td>\n",
       "      <td>None</td>\n",
       "      <td>40</td>\n",
       "      <td>NaN</td>\n",
       "      <td>None</td>\n",
       "      <td>2004</td>\n",
       "      <td>1</td>\n",
       "      <td>169</td>\n",
       "      <td>22</td>\n",
       "      <td>10</td>\n",
       "      <td>0</td>\n",
       "      <td>7</td>\n",
       "      <td>5698450816</td>\n",
       "      <td>0</td>\n",
       "      <td>None</td>\n",
       "      <td>[{'is_pick': True, 'hero_id': 123, 'team': 1, ...</td>\n",
       "      <td>0</td>\n",
       "      <td>None</td>\n",
       "      <td>18</td>\n",
       "      <td>NaN</td>\n",
       "      <td>False</td>\n",
       "      <td>None</td>\n",
       "      <td>None</td>\n",
       "      <td>1665763000</td>\n",
       "      <td>None</td>\n",
       "      <td>2038</td>\n",
       "      <td>38</td>\n",
       "      <td>NaN</td>\n",
       "      <td>1.889148e+09</td>\n",
       "      <td>0.0</td>\n",
       "      <td>0.0</td>\n",
       "      <td>[{'match_id': 6805389308, 'player_slot': 0, 'a...</td>\n",
       "      <td>51</td>\n",
       "      <td>8</td>\n",
       "      <td>http://replay183.valve.net/570/6805389308_1889...</td>\n",
       "      <td>NaN</td>\n",
       "      <td>NaN</td>\n",
       "      <td>NaN</td>\n",
       "      <td>NaN</td>\n",
       "      <td>NaN</td>\n",
       "      <td>NaN</td>\n",
       "      <td>NaN</td>\n",
       "      <td>NaN</td>\n",
       "      <td>NaN</td>\n",
       "    </tr>\n",
       "  </tbody>\n",
       "</table>\n",
       "</div>"
      ],
      "text/plain": [
       "         match_id  barracks_status_dire  barracks_status_radiant  chat  \\\n",
       "66951  6804865010                    63                       15  None   \n",
       "66952  6805389302                     0                       63  None   \n",
       "66953  6805389306                    51                       63  None   \n",
       "66954  6805389310                    60                        3  None   \n",
       "66955  6805389308                    63                       15  None   \n",
       "\n",
       "       cluster cosmetics  dire_score  dire_team_id draft_timings  duration  \\\n",
       "66951      223      None          46           NaN          None      2208   \n",
       "66952      182      None          11           NaN          None      1735   \n",
       "66953      153      None          57           NaN          None      3715   \n",
       "66954      154      None          54           NaN          None      2950   \n",
       "66955      183      None          40           NaN          None      2004   \n",
       "\n",
       "       engine  first_blood_time  game_mode  human_players  leagueid  \\\n",
       "66951       1               127         22             10         0   \n",
       "66952       1                 0         22             10         0   \n",
       "66953       1                69         22             10         0   \n",
       "66954       1               397         22             10         0   \n",
       "66955       1               169         22             10         0   \n",
       "\n",
       "       lobby_type  match_seq_num  negative_votes objectives  \\\n",
       "66951           0     5697998136               0       None   \n",
       "66952           7     5698455760               0       None   \n",
       "66953           7     5698496669               0       None   \n",
       "66954           7     5698478138               0       None   \n",
       "66955           7     5698450816               0       None   \n",
       "\n",
       "                                              picks_bans  positive_votes  \\\n",
       "66951  [{'is_pick': True, 'hero_id': 14, 'team': 1, '...               0   \n",
       "66952  [{'is_pick': True, 'hero_id': 73, 'team': 0, '...               0   \n",
       "66953  [{'is_pick': True, 'hero_id': 47, 'team': 0, '...               0   \n",
       "66954  [{'is_pick': True, 'hero_id': 84, 'team': 1, '...               0   \n",
       "66955  [{'is_pick': True, 'hero_id': 123, 'team': 1, ...               0   \n",
       "\n",
       "      radiant_gold_adv  radiant_score  radiant_team_id  radiant_win  \\\n",
       "66951             None             28              NaN        False   \n",
       "66952             None             44              NaN         True   \n",
       "66953             None             70              NaN         True   \n",
       "66954             None             31              NaN        False   \n",
       "66955             None             18              NaN        False   \n",
       "\n",
       "      radiant_xp_adv skill  start_time teamfights  tower_status_dire  \\\n",
       "66951           None  None  1665743584       None               1974   \n",
       "66952           None  None  1665762989       None                  0   \n",
       "66953           None  None  1665762999       None                260   \n",
       "66954           None  None  1665762999       None               1840   \n",
       "66955           None  None  1665763000       None               2038   \n",
       "\n",
       "       tower_status_radiant  version   replay_salt  series_id  series_type  \\\n",
       "66951                    38      NaN  6.770818e+08        0.0          0.0   \n",
       "66952                  1983      NaN  7.222479e+08        0.0          0.0   \n",
       "66953                  1828      NaN  4.312766e+08        0.0          0.0   \n",
       "66954                     4      NaN  1.732405e+09        0.0          0.0   \n",
       "66955                    38      NaN  1.889148e+09        0.0          0.0   \n",
       "\n",
       "                                                 players  patch  region  \\\n",
       "66951  [{'match_id': 6804865010, 'player_slot': 0, 'a...     51      18   \n",
       "66952  [{'match_id': 6805389302, 'player_slot': 0, 'a...     51       8   \n",
       "66953  [{'match_id': 6805389306, 'player_slot': 0, 'a...     51       5   \n",
       "66954  [{'match_id': 6805389310, 'player_slot': 0, 'a...     51       5   \n",
       "66955  [{'match_id': 6805389308, 'player_slot': 0, 'a...     51       8   \n",
       "\n",
       "                                              replay_url all_word_counts  \\\n",
       "66951  http://replay223.valve.net/570/6804865010_6770...             NaN   \n",
       "66952  http://replay182.valve.net/570/6805389302_7222...             NaN   \n",
       "66953  http://replay153.valve.net/570/6805389306_4312...             NaN   \n",
       "66954  http://replay154.valve.net/570/6805389310_1732...             NaN   \n",
       "66955  http://replay183.valve.net/570/6805389308_1889...             NaN   \n",
       "\n",
       "      my_word_counts  comeback  stomp  throw  loss league radiant_team  \\\n",
       "66951            NaN       NaN    NaN    NaN   NaN    NaN          NaN   \n",
       "66952            NaN       NaN    NaN    NaN   NaN    NaN          NaN   \n",
       "66953            NaN       NaN    NaN    NaN   NaN    NaN          NaN   \n",
       "66954            NaN       NaN    NaN    NaN   NaN    NaN          NaN   \n",
       "66955            NaN       NaN    NaN    NaN   NaN    NaN          NaN   \n",
       "\n",
       "      dire_team  \n",
       "66951       NaN  \n",
       "66952       NaN  \n",
       "66953       NaN  \n",
       "66954       NaN  \n",
       "66955       NaN  "
      ]
     },
     "execution_count": 279,
     "metadata": {},
     "output_type": "execute_result"
    }
   ],
   "source": [
    "matches_details_df.tail()"
   ]
  },
  {
   "cell_type": "code",
   "execution_count": 280,
   "id": "d24586be",
   "metadata": {},
   "outputs": [],
   "source": [
    "matches_details_df = matches_details_df[\n",
    "    ~matches_details_df.match_id.isna()]"
   ]
  },
  {
   "cell_type": "code",
   "execution_count": 281,
   "id": "a2383a98",
   "metadata": {},
   "outputs": [
    {
     "data": {
      "text/plain": [
       "(66956, 48)"
      ]
     },
     "execution_count": 281,
     "metadata": {},
     "output_type": "execute_result"
    }
   ],
   "source": [
    "matches_details_df.shape"
   ]
  },
  {
   "cell_type": "code",
   "execution_count": 282,
   "id": "807ac0b0",
   "metadata": {},
   "outputs": [
    {
     "data": {
      "text/plain": [
       "<AxesSubplot: >"
      ]
     },
     "execution_count": 282,
     "metadata": {},
     "output_type": "execute_result"
    },
    {
     "data": {
      "image/png": "[encoded data removed]",
      "text/plain": [
       "<Figure size 640x480 with 1 Axes>"
      ]
     },
     "metadata": {},
     "output_type": "display_data"
    }
   ],
   "source": [
    "matches_details_df[~matches_details_df.radiant_win.isna()]\\\n",
    "    .radiant_win.astype(int).hist()"
   ]
  },
  {
   "cell_type": "code",
   "execution_count": 283,
   "id": "b5f9ba8c",
   "metadata": {},
   "outputs": [],
   "source": [
    "matches_with_chat = matches_details_df[\n",
    "    ~matches_details_df.chat.isna()]"
   ]
  },
  {
   "cell_type": "code",
   "execution_count": 284,
   "id": "125dd4b2",
   "metadata": {
    "scrolled": true
   },
   "outputs": [
    {
     "data": {
      "text/plain": [
       "(396, 48)"
      ]
     },
     "execution_count": 284,
     "metadata": {},
     "output_type": "execute_result"
    }
   ],
   "source": [
    "matches_with_chat.shape"
   ]
  },
  {
   "cell_type": "code",
   "execution_count": 285,
   "id": "7f1d9dd2",
   "metadata": {},
   "outputs": [
    {
     "name": "stderr",
     "output_type": "stream",
     "text": [
      "/var/folders/_1/51tlm4vx6rj6_81hp_5k3rg00000gn/T/ipykernel_1603/1222791709.py:1: SettingWithCopyWarning: \n",
      "A value is trying to be set on a copy of a slice from a DataFrame.\n",
      "Try using .loc[row_indexer,col_indexer] = value instead\n",
      "\n",
      "See the caveats in the documentation: https://pandas.pydata.org/pandas-docs/stable/user_guide/indexing.html#returning-a-view-versus-a-copy\n",
      "  matches_with_chat['chat_count'] = \\\n"
     ]
    }
   ],
   "source": [
    "matches_with_chat['chat_count'] = \\\n",
    "    matches_with_chat.chat.apply(\n",
    "    lambda item: sum([x['type'] == 'chat' for x in item]))"
   ]
  },
  {
   "cell_type": "code",
   "execution_count": 286,
   "id": "75821329",
   "metadata": {},
   "outputs": [
    {
     "data": {
      "text/plain": [
       "<AxesSubplot: >"
      ]
     },
     "execution_count": 286,
     "metadata": {},
     "output_type": "execute_result"
    },
    {
     "data": {
      "image/png": "[encoded data removed]",
      "text/plain": [
       "<Figure size 640x480 with 1 Axes>"
      ]
     },
     "metadata": {},
     "output_type": "display_data"
    }
   ],
   "source": [
    "matches_with_chat.chat_count.hist()"
   ]
  },
  {
   "cell_type": "code",
   "execution_count": 287,
   "id": "646c0d14",
   "metadata": {},
   "outputs": [
    {
     "data": {
      "text/plain": [
       "356"
      ]
     },
     "execution_count": 287,
     "metadata": {},
     "output_type": "execute_result"
    }
   ],
   "source": [
    "(matches_with_chat.chat_count > 0).sum()"
   ]
  },
  {
   "cell_type": "code",
   "execution_count": 288,
   "id": "b0e05dfb",
   "metadata": {},
   "outputs": [],
   "source": [
    "i = 29\n",
    "one_chat = matches_with_chat.chat.values[i]"
   ]
  },
  {
   "cell_type": "code",
   "execution_count": 289,
   "id": "e811b444",
   "metadata": {},
   "outputs": [
    {
     "data": {
      "text/plain": [
       "chatwheel    41\n",
       "chat          4\n",
       "dtype: int64"
      ]
     },
     "execution_count": 289,
     "metadata": {},
     "output_type": "execute_result"
    }
   ],
   "source": [
    "pd.Series.value_counts([c['type'] for c in one_chat])"
   ]
  },
  {
   "cell_type": "code",
   "execution_count": 290,
   "id": "529118d7",
   "metadata": {},
   "outputs": [
    {
     "data": {
      "text/plain": [
       "['fuck you : -4min', 'gg : 41min', 'gg : 41min', 'gg : 41min']"
      ]
     },
     "execution_count": 290,
     "metadata": {},
     "output_type": "execute_result"
    }
   ],
   "source": [
    "[f\"{c['key']} : {c['time'] // 60}min\" \\\n",
    " for c in one_chat if c['type'] == 'chat']"
   ]
  },
  {
   "cell_type": "markdown",
   "id": "848b1f18",
   "metadata": {},
   "source": [
    "### Debug part for understanding - which part to scrap"
   ]
  },
  {
   "cell_type": "markdown",
   "id": "6bc78a33",
   "metadata": {},
   "source": [
    "First part: from 6808764903 100k; second part: 6807096016 70k; third part: from 6805855815 70k."
   ]
  },
  {
   "cell_type": "code",
   "execution_count": 291,
   "id": "a5b26f8d",
   "metadata": {},
   "outputs": [
    {
     "data": {
      "text/plain": [
       "[6804732016, 6804732018, 6804732100]"
      ]
     },
     "execution_count": 291,
     "metadata": {},
     "output_type": "execute_result"
    }
   ],
   "source": [
    "sorted(public_matches_df.match_id.values)[:3]"
   ]
  },
  {
   "cell_type": "markdown",
   "id": "3c8bf8ea",
   "metadata": {},
   "source": [
    "## Preparing the dataset with text"
   ]
  },
  {
   "cell_type": "code",
   "execution_count": 292,
   "id": "b513e5a9",
   "metadata": {},
   "outputs": [],
   "source": [
    "matches_with_chat = pd.merge(\n",
    "    matches_with_chat.drop([\n",
    "    'start_time'], axis=1),\n",
    "    public_matches_df.drop(['cluster',\n",
    "                            'radiant_team',\n",
    "                            'dire_team',\n",
    "                            'game_mode',\n",
    "                            'lobby_type',\n",
    "                            'duration',\n",
    "                            'match_seq_num',\n",
    "                            'radiant_win'\n",
    "                           ], axis=1),\n",
    "    how='left', on='match_id')"
   ]
  },
  {
   "cell_type": "code",
   "execution_count": 293,
   "id": "e2aef2db",
   "metadata": {},
   "outputs": [],
   "source": [
    "# save as json because of chat unicode symbols \n",
    "matches_with_chat.to_json(\n",
    "    f'../data/matches_with_chat{path_suffix}.json')"
   ]
  },
  {
   "cell_type": "markdown",
   "id": "e9a1d5ba",
   "metadata": {},
   "source": [
    "Process and save all downloaded part before merging"
   ]
  },
  {
   "cell_type": "markdown",
   "id": "df443494",
   "metadata": {},
   "source": [
    "### Merge all parts together "
   ]
  },
  {
   "cell_type": "code",
   "execution_count": 297,
   "id": "39209a2a",
   "metadata": {},
   "outputs": [
    {
     "name": "stdout",
     "output_type": "stream",
     "text": [
      "(423, 53)\n",
      "(292, 53)\n",
      "(396, 53)\n"
     ]
    }
   ],
   "source": [
    "all_suffixes = ['', '_p2', '_p3']\n",
    "all_dfs = []\n",
    "for s in all_suffixes:\n",
    "    df = pd.read_json(\n",
    "        f'../data/matches_with_chat{s}.json')\n",
    "    print(df.shape)\n",
    "    all_dfs.append(df)"
   ]
  },
  {
   "cell_type": "code",
   "execution_count": 298,
   "id": "4ff9ac27",
   "metadata": {},
   "outputs": [],
   "source": [
    "merged_matches = pd.concat(all_dfs).reset_index(drop=True)"
   ]
  },
  {
   "cell_type": "code",
   "execution_count": 299,
   "id": "8eb60316",
   "metadata": {},
   "outputs": [],
   "source": [
    "merged_matches.to_json(\n",
    "    '../data/merged_matches_with_chat.json')"
   ]
  },
  {
   "cell_type": "code",
   "execution_count": null,
   "id": "863b59e6",
   "metadata": {},
   "outputs": [],
   "source": []
  }
 ],
 "metadata": {
  "kernelspec": {
   "display_name": "Python 3 (ipykernel)",
   "language": "python",
   "name": "python3"
  },
  "language_info": {
   "codemirror_mode": {
    "name": "ipython",
    "version": 3
   },
   "file_extension": ".py",
   "mimetype": "text/x-python",
   "name": "python",
   "nbconvert_exporter": "python",
   "pygments_lexer": "ipython3",
   "version": "3.9.7"
  }
 },
 "nbformat": 4,
 "nbformat_minor": 5
}
