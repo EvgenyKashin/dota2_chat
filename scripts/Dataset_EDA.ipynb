{
 "cells": [
  {
   "cell_type": "code",
   "execution_count": 66,
   "id": "16386940",
   "metadata": {},
   "outputs": [],
   "source": [
    "import json\n",
    "import pandas as pd\n",
    "import datetime\n",
    "from functools import partial\n",
    "\n",
    "import matplotlib.pyplot as plt\n",
    "\n",
    "pd.set_option('display.max_columns', 100)"
   ]
  },
  {
   "cell_type": "markdown",
   "id": "eeb23c41",
   "metadata": {},
   "source": [
    "## Data loading"
   ]
  },
  {
   "cell_type": "code",
   "execution_count": 39,
   "id": "490ad244",
   "metadata": {},
   "outputs": [],
   "source": [
    "df = pd.read_json('../data/merged_matches_with_chat.json')"
   ]
  },
  {
   "cell_type": "code",
   "execution_count": 40,
   "id": "328e885c",
   "metadata": {},
   "outputs": [
    {
     "data": {
      "text/plain": [
       "<AxesSubplot: >"
      ]
     },
     "execution_count": 40,
     "metadata": {},
     "output_type": "execute_result"
    },
    {
     "data": {
      "image/png": "[encoded data removed]",
      "text/plain": [
       "<Figure size 640x480 with 1 Axes>"
      ]
     },
     "metadata": {},
     "output_type": "display_data"
    }
   ],
   "source": [
    "df.radiant_win.astype(int).hist()"
   ]
  },
  {
   "cell_type": "markdown",
   "id": "86a68226",
   "metadata": {},
   "source": [
    "## Data anaylysis"
   ]
  },
  {
   "cell_type": "code",
   "execution_count": null,
   "id": "9df9427e",
   "metadata": {},
   "outputs": [],
   "source": []
  },
  {
   "cell_type": "markdown",
   "id": "b1bfa7a5",
   "metadata": {},
   "source": [
    "## Chat analysis"
   ]
  },
  {
   "cell_type": "markdown",
   "id": "6093f287",
   "metadata": {},
   "source": [
    "slot: \"Which slot the player is in. 0-127 are Radiant, 128-255 are Dire\""
   ]
  },
  {
   "cell_type": "code",
   "execution_count": 56,
   "id": "06b9255b",
   "metadata": {},
   "outputs": [],
   "source": [
    "i = 34\n",
    "one_chat = df.chat.values[i]"
   ]
  },
  {
   "cell_type": "code",
   "execution_count": 57,
   "id": "d2b5b731",
   "metadata": {},
   "outputs": [
    {
     "data": {
      "text/plain": [
       "chatwheel    37\n",
       "chat          6\n",
       "dtype: int64"
      ]
     },
     "execution_count": 57,
     "metadata": {},
     "output_type": "execute_result"
    }
   ],
   "source": [
    "pd.Series.value_counts([c['type'] for c in one_chat])"
   ]
  },
  {
   "cell_type": "code",
   "execution_count": 58,
   "id": "b60c0911",
   "metadata": {},
   "outputs": [
    {
     "data": {
      "text/plain": [
       "['тб хуево поддерживал дахака что они 2-0 вьебали : -1min',\n",
       " 'все из-за него  : -1min',\n",
       " '+ : -1min',\n",
       " 'петух слабое звено : 23min',\n",
       " 'кто отожмет тот гей : 36min',\n",
       " 'я семён : 36min']"
      ]
     },
     "execution_count": 58,
     "metadata": {},
     "output_type": "execute_result"
    }
   ],
   "source": [
    "[f\"{c['key']} : {c['time'] // 60}min\" \\\n",
    " for c in one_chat if c['type'] == 'chat']"
   ]
  },
  {
   "cell_type": "code",
   "execution_count": 62,
   "id": "00874529",
   "metadata": {},
   "outputs": [
    {
     "data": {
      "text/plain": [
       "['тб хуево поддерживал дахака что они 2-0 вьебали',\n",
       " 'петух слабое звено',\n",
       " 'кто отожмет тот гей',\n",
       " 'я семён']"
      ]
     },
     "execution_count": 62,
     "metadata": {},
     "output_type": "execute_result"
    }
   ],
   "source": [
    "[c['key'] for c in one_chat \\\n",
    " if c['type'] == 'chat' and c['player_slot'] <= 127]"
   ]
  },
  {
   "cell_type": "code",
   "execution_count": 63,
   "id": "ae6253e0",
   "metadata": {},
   "outputs": [
    {
     "data": {
      "text/plain": [
       "['все из-за него ', '+']"
      ]
     },
     "execution_count": 63,
     "metadata": {},
     "output_type": "execute_result"
    }
   ],
   "source": [
    "[c['key'] for c in one_chat \\\n",
    " if c['type'] == 'chat' and c['player_slot'] > 127]"
   ]
  },
  {
   "cell_type": "markdown",
   "id": "83284947",
   "metadata": {},
   "source": [
    "## Simple text only dataset creation"
   ]
  },
  {
   "cell_type": "code",
   "execution_count": 85,
   "id": "e6895cf3",
   "metadata": {},
   "outputs": [],
   "source": [
    "def select_messages(radiant, chat):\n",
    "    radiant_cond = lambda slot: slot <= 127\n",
    "    dire_cond = lambda slot: slot > 127\n",
    "    cond = radiant_cond if radiant else dire_cond\n",
    "    \n",
    "    return [c['key'] for c in chat \\\n",
    "            if c['type'] == 'chat' \\\n",
    "            and c.get('player_slot') is not None \\\n",
    "            and cond(c['player_slot'])]\n",
    "\n",
    "select_radiant = partial(select_messages, True)\n",
    "select_dire = partial(select_messages, False)"
   ]
  },
  {
   "cell_type": "code",
   "execution_count": 86,
   "id": "9461436b",
   "metadata": {},
   "outputs": [],
   "source": [
    "df_with_chat = df[df.chat_count > 0]"
   ]
  },
  {
   "cell_type": "code",
   "execution_count": 87,
   "id": "3aeef2e0",
   "metadata": {},
   "outputs": [
    {
     "data": {
      "text/plain": [
       "(1003, 53)"
      ]
     },
     "execution_count": 87,
     "metadata": {},
     "output_type": "execute_result"
    }
   ],
   "source": [
    "df_with_chat.shape"
   ]
  },
  {
   "cell_type": "code",
   "execution_count": 88,
   "id": "31235215",
   "metadata": {},
   "outputs": [],
   "source": [
    "chat_dataset = {}"
   ]
  },
  {
   "cell_type": "code",
   "execution_count": 90,
   "id": "ede4bab9",
   "metadata": {},
   "outputs": [],
   "source": [
    "# for i in range(len(df_with_chat)):\n",
    "# #     print(df_with_chat.chat.values[i])\n",
    "#     select_radiant(df_with_chat.chat.values[i])"
   ]
  },
  {
   "cell_type": "code",
   "execution_count": 91,
   "id": "26cc42b1",
   "metadata": {},
   "outputs": [],
   "source": [
    "chat_dataset['chat_radiant'] = df_with_chat.chat.apply(\n",
    "    select_radiant)\n",
    "chat_dataset['chat_dire'] = df_with_chat.chat.apply(\n",
    "    select_dire)"
   ]
  },
  {
   "cell_type": "code",
   "execution_count": 93,
   "id": "5e04b8a4",
   "metadata": {},
   "outputs": [],
   "source": [
    "chat_dataset = pd.DataFrame(chat_dataset)\n",
    "chat_dataset_label = df_with_chat.radiant_win.astype(\n",
    "    float).values"
   ]
  },
  {
   "cell_type": "code",
   "execution_count": 98,
   "id": "282b2a42",
   "metadata": {},
   "outputs": [
    {
     "data": {
      "text/html": [
       "<div>\n",
       "<style scoped>\n",
       "    .dataframe tbody tr th:only-of-type {\n",
       "        vertical-align: middle;\n",
       "    }\n",
       "\n",
       "    .dataframe tbody tr th {\n",
       "        vertical-align: top;\n",
       "    }\n",
       "\n",
       "    .dataframe thead th {\n",
       "        text-align: right;\n",
       "    }\n",
       "</style>\n",
       "<table border=\"1\" class=\"dataframe\">\n",
       "  <thead>\n",
       "    <tr style=\"text-align: right;\">\n",
       "      <th></th>\n",
       "      <th>chat_radiant</th>\n",
       "      <th>chat_dire</th>\n",
       "    </tr>\n",
       "  </thead>\n",
       "  <tbody>\n",
       "    <tr>\n",
       "      <th>0</th>\n",
       "      <td>[Xd, yea happened to a friend too, F9, come on...</td>\n",
       "      <td>[sorry pugna's model didn't load for me and I ...</td>\n",
       "    </tr>\n",
       "    <tr>\n",
       "      <th>2</th>\n",
       "      <td>[3 mins, brb, , кто из вас мне роль чурки дал...</td>\n",
       "      <td>[хочешь?, ofc, no problem, кидар красиво делай...</td>\n",
       "    </tr>\n",
       "    <tr>\n",
       "      <th>3</th>\n",
       "      <td>[]</td>\n",
       "      <td>[gg, wow gg, gg wp]</td>\n",
       "    </tr>\n",
       "    <tr>\n",
       "      <th>4</th>\n",
       "      <td>[челы, вы конченные у вас керри в топе ебут и ...</td>\n",
       "      <td>[]</td>\n",
       "    </tr>\n",
       "    <tr>\n",
       "      <th>5</th>\n",
       "      <td>[et,biot, уебище, Посиди в таверне]</td>\n",
       "      <td>[???, Ебанат?]</td>\n",
       "    </tr>\n",
       "  </tbody>\n",
       "</table>\n",
       "</div>"
      ],
      "text/plain": [
       "                                        chat_radiant  \\\n",
       "0  [Xd, yea happened to a friend too, F9, come on...   \n",
       "2  [3 mins, brb, , кто из вас мне роль чурки дал...   \n",
       "3                                                 []   \n",
       "4  [челы, вы конченные у вас керри в топе ебут и ...   \n",
       "5                [et,biot, уебище, Посиди в таверне]   \n",
       "\n",
       "                                           chat_dire  \n",
       "0  [sorry pugna's model didn't load for me and I ...  \n",
       "2  [хочешь?, ofc, no problem, кидар красиво делай...  \n",
       "3                                [gg, wow gg, gg wp]  \n",
       "4                                                 []  \n",
       "5                                     [???, Ебанат?]  "
      ]
     },
     "execution_count": 98,
     "metadata": {},
     "output_type": "execute_result"
    }
   ],
   "source": [
    "chat_dataset.head()"
   ]
  },
  {
   "cell_type": "code",
   "execution_count": 99,
   "id": "31f67a64",
   "metadata": {},
   "outputs": [
    {
     "data": {
      "text/plain": [
       "array([1., 1., 0., ..., 1., 0., 1.])"
      ]
     },
     "execution_count": 99,
     "metadata": {},
     "output_type": "execute_result"
    }
   ],
   "source": [
    "chat_dataset_label"
   ]
  },
  {
   "cell_type": "code",
   "execution_count": null,
   "id": "48b97bd5",
   "metadata": {},
   "outputs": [],
   "source": []
  }
 ],
 "metadata": {
  "kernelspec": {
   "display_name": "dota2",
   "language": "python",
   "name": "dota2"
  },
  "language_info": {
   "codemirror_mode": {
    "name": "ipython",
    "version": 3
   },
   "file_extension": ".py",
   "mimetype": "text/x-python",
   "name": "python",
   "nbconvert_exporter": "python",
   "pygments_lexer": "ipython3",
   "version": "3.9.13"
  }
 },
 "nbformat": 4,
 "nbformat_minor": 5
}
