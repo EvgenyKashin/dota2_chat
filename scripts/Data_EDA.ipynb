{
 "cells": [
  {
   "cell_type": "code",
   "execution_count": 2,
   "id": "24adf088",
   "metadata": {},
   "outputs": [],
   "source": [
    "import json\n",
    "import pandas as pd\n",
    "import datetime\n",
    "\n",
    "import matplotlib.pyplot as plt"
   ]
  },
  {
   "cell_type": "code",
   "execution_count": 3,
   "id": "ca5fe4a8",
   "metadata": {},
   "outputs": [],
   "source": [
    "pd.set_option('display.max_columns', 100)"
   ]
  },
  {
   "cell_type": "markdown",
   "id": "b98313ce",
   "metadata": {},
   "source": [
    "## Public matches (general info)"
   ]
  },
  {
   "cell_type": "code",
   "execution_count": 256,
   "id": "cebd5579",
   "metadata": {},
   "outputs": [],
   "source": [
    "with open('../data/public_matches_p3.json') as f:\n",
    "    public_matches = json.load(f)"
   ]
  },
  {
   "cell_type": "code",
   "execution_count": 249,
   "id": "ec89fdb1",
   "metadata": {},
   "outputs": [
    {
     "data": {
      "text/plain": [
       "{dict, str}"
      ]
     },
     "execution_count": 249,
     "metadata": {},
     "output_type": "execute_result"
    }
   ],
   "source": [
    "set([type(x) for x in public_matches])"
   ]
  },
  {
   "cell_type": "markdown",
   "id": "dec5f185",
   "metadata": {},
   "source": [
    "Skip errors in the data"
   ]
  },
  {
   "cell_type": "code",
   "execution_count": 258,
   "id": "4847179b",
   "metadata": {},
   "outputs": [],
   "source": [
    "# public_matches = [x for x in public_matches \\\n",
    "#                   if type(x) == dict]\n",
    "\n",
    "# with open('../data/public_matches_p3.json', 'w') as f:\n",
    "#     json.dump(public_matches, f)"
   ]
  },
  {
   "cell_type": "code",
   "execution_count": 259,
   "id": "d9c9592b",
   "metadata": {},
   "outputs": [],
   "source": [
    "public_matches_df = pd.DataFrame(public_matches)\n",
    "public_matches_df['start_time'] = pd.to_datetime(\n",
    "    public_matches_df.start_time,unit='s')"
   ]
  },
  {
   "cell_type": "code",
   "execution_count": 260,
   "id": "81884938",
   "metadata": {},
   "outputs": [
    {
     "data": {
      "text/plain": [
       "(67200, 14)"
      ]
     },
     "execution_count": 260,
     "metadata": {},
     "output_type": "execute_result"
    }
   ],
   "source": [
    "public_matches_df.shape"
   ]
  },
  {
   "cell_type": "code",
   "execution_count": 261,
   "id": "7e033741",
   "metadata": {},
   "outputs": [
    {
     "data": {
      "text/html": [
       "<div>\n",
       "<style scoped>\n",
       "    .dataframe tbody tr th:only-of-type {\n",
       "        vertical-align: middle;\n",
       "    }\n",
       "\n",
       "    .dataframe tbody tr th {\n",
       "        vertical-align: top;\n",
       "    }\n",
       "\n",
       "    .dataframe thead th {\n",
       "        text-align: right;\n",
       "    }\n",
       "</style>\n",
       "<table border=\"1\" class=\"dataframe\">\n",
       "  <thead>\n",
       "    <tr style=\"text-align: right;\">\n",
       "      <th></th>\n",
       "      <th>match_id</th>\n",
       "      <th>match_seq_num</th>\n",
       "      <th>radiant_win</th>\n",
       "      <th>start_time</th>\n",
       "      <th>duration</th>\n",
       "      <th>avg_mmr</th>\n",
       "      <th>num_mmr</th>\n",
       "      <th>lobby_type</th>\n",
       "      <th>game_mode</th>\n",
       "      <th>avg_rank_tier</th>\n",
       "      <th>num_rank_tier</th>\n",
       "      <th>cluster</th>\n",
       "      <th>radiant_team</th>\n",
       "      <th>dire_team</th>\n",
       "    </tr>\n",
       "  </thead>\n",
       "  <tbody>\n",
       "    <tr>\n",
       "      <th>0</th>\n",
       "      <td>6805855803</td>\n",
       "      <td>5698885793</td>\n",
       "      <td>False</td>\n",
       "      <td>2022-10-14 21:36:48</td>\n",
       "      <td>2909</td>\n",
       "      <td>NaN</td>\n",
       "      <td>NaN</td>\n",
       "      <td>0</td>\n",
       "      <td>22</td>\n",
       "      <td>21</td>\n",
       "      <td>2</td>\n",
       "      <td>182</td>\n",
       "      <td>46,109,105,34,103</td>\n",
       "      <td>11,67,31,71,85</td>\n",
       "    </tr>\n",
       "    <tr>\n",
       "      <th>1</th>\n",
       "      <td>6805855802</td>\n",
       "      <td>5698879264</td>\n",
       "      <td>False</td>\n",
       "      <td>2022-10-14 21:36:48</td>\n",
       "      <td>2400</td>\n",
       "      <td>2414.0</td>\n",
       "      <td>4.0</td>\n",
       "      <td>7</td>\n",
       "      <td>22</td>\n",
       "      <td>54</td>\n",
       "      <td>6</td>\n",
       "      <td>186</td>\n",
       "      <td>9,28,62,70,26</td>\n",
       "      <td>8,123,16,31,84</td>\n",
       "    </tr>\n",
       "    <tr>\n",
       "      <th>2</th>\n",
       "      <td>6805855801</td>\n",
       "      <td>5698878881</td>\n",
       "      <td>False</td>\n",
       "      <td>2022-10-14 21:36:38</td>\n",
       "      <td>2422</td>\n",
       "      <td>4083.0</td>\n",
       "      <td>1.0</td>\n",
       "      <td>7</td>\n",
       "      <td>22</td>\n",
       "      <td>51</td>\n",
       "      <td>5</td>\n",
       "      <td>185</td>\n",
       "      <td>96,11,46,79,123</td>\n",
       "      <td>62,105,128,94,74</td>\n",
       "    </tr>\n",
       "    <tr>\n",
       "      <th>3</th>\n",
       "      <td>6805855800</td>\n",
       "      <td>5698881554</td>\n",
       "      <td>True</td>\n",
       "      <td>2022-10-14 21:36:14</td>\n",
       "      <td>2523</td>\n",
       "      <td>NaN</td>\n",
       "      <td>NaN</td>\n",
       "      <td>7</td>\n",
       "      <td>22</td>\n",
       "      <td>44</td>\n",
       "      <td>3</td>\n",
       "      <td>153</td>\n",
       "      <td>68,39,28,20,6</td>\n",
       "      <td>40,54,123,87,2</td>\n",
       "    </tr>\n",
       "    <tr>\n",
       "      <th>4</th>\n",
       "      <td>6805855716</td>\n",
       "      <td>5698889983</td>\n",
       "      <td>False</td>\n",
       "      <td>2022-10-14 21:36:44</td>\n",
       "      <td>3261</td>\n",
       "      <td>4062.0</td>\n",
       "      <td>5.0</td>\n",
       "      <td>7</td>\n",
       "      <td>22</td>\n",
       "      <td>71</td>\n",
       "      <td>8</td>\n",
       "      <td>188</td>\n",
       "      <td>120,112,19,85,1</td>\n",
       "      <td>86,29,8,40,34</td>\n",
       "    </tr>\n",
       "  </tbody>\n",
       "</table>\n",
       "</div>"
      ],
      "text/plain": [
       "     match_id  match_seq_num  radiant_win          start_time  duration  \\\n",
       "0  6805855803     5698885793        False 2022-10-14 21:36:48      2909   \n",
       "1  6805855802     5698879264        False 2022-10-14 21:36:48      2400   \n",
       "2  6805855801     5698878881        False 2022-10-14 21:36:38      2422   \n",
       "3  6805855800     5698881554         True 2022-10-14 21:36:14      2523   \n",
       "4  6805855716     5698889983        False 2022-10-14 21:36:44      3261   \n",
       "\n",
       "   avg_mmr  num_mmr  lobby_type  game_mode  avg_rank_tier  num_rank_tier  \\\n",
       "0      NaN      NaN           0         22             21              2   \n",
       "1   2414.0      4.0           7         22             54              6   \n",
       "2   4083.0      1.0           7         22             51              5   \n",
       "3      NaN      NaN           7         22             44              3   \n",
       "4   4062.0      5.0           7         22             71              8   \n",
       "\n",
       "   cluster       radiant_team         dire_team  \n",
       "0      182  46,109,105,34,103    11,67,31,71,85  \n",
       "1      186      9,28,62,70,26    8,123,16,31,84  \n",
       "2      185    96,11,46,79,123  62,105,128,94,74  \n",
       "3      153      68,39,28,20,6    40,54,123,87,2  \n",
       "4      188    120,112,19,85,1     86,29,8,40,34  "
      ]
     },
     "execution_count": 261,
     "metadata": {},
     "output_type": "execute_result"
    }
   ],
   "source": [
    "public_matches_df.head()"
   ]
  },
  {
   "cell_type": "code",
   "execution_count": 263,
   "id": "d8bbeef5",
   "metadata": {},
   "outputs": [
    {
     "data": {
      "text/plain": [
       "0       2022-10-14 21:36:48\n",
       "1       2022-10-14 21:36:48\n",
       "2       2022-10-14 21:36:38\n",
       "3       2022-10-14 21:36:14\n",
       "4       2022-10-14 21:36:44\n",
       "                ...        \n",
       "67195   2022-10-14 08:16:59\n",
       "67196   2022-10-14 08:17:00\n",
       "67197   2022-10-14 08:16:59\n",
       "67198   2022-10-14 08:16:50\n",
       "67199   2022-10-14 08:16:50\n",
       "Name: start_time, Length: 67200, dtype: datetime64[ns]"
      ]
     },
     "execution_count": 263,
     "metadata": {},
     "output_type": "execute_result"
    }
   ],
   "source": [
    "public_matches_df.start_time"
   ]
  },
  {
   "cell_type": "code",
   "execution_count": 264,
   "id": "25207485",
   "metadata": {},
   "outputs": [
    {
     "data": {
      "text/plain": [
       "<AxesSubplot: >"
      ]
     },
     "execution_count": 264,
     "metadata": {},
     "output_type": "execute_result"
    },
    {
     "data": {
      "image/png": "[encoded data removed]",
      "text/plain": [
       "<Figure size 640x480 with 1 Axes>"
      ]
     },
     "metadata": {},
     "output_type": "display_data"
    }
   ],
   "source": [
    "public_matches_df.duration.hist()"
   ]
  },
  {
   "cell_type": "code",
   "execution_count": 265,
   "id": "41bfc657",
   "metadata": {},
   "outputs": [
    {
     "data": {
      "text/plain": [
       "20.083166666666667"
      ]
     },
     "execution_count": 265,
     "metadata": {},
     "output_type": "execute_result"
    }
   ],
   "source": [
    "public_matches_df.duration.quantile(0.01) / 60"
   ]
  },
  {
   "cell_type": "code",
   "execution_count": 266,
   "id": "1c92544f",
   "metadata": {},
   "outputs": [
    {
     "data": {
      "text/plain": [
       "<AxesSubplot: >"
      ]
     },
     "execution_count": 266,
     "metadata": {},
     "output_type": "execute_result"
    },
    {
     "data": {
      "image/png": "[encoded data removed]",
      "text/plain": [
       "<Figure size 640x480 with 1 Axes>"
      ]
     },
     "metadata": {},
     "output_type": "display_data"
    }
   ],
   "source": [
    "public_matches_df.avg_mmr.hist()"
   ]
  },
  {
   "cell_type": "code",
   "execution_count": 267,
   "id": "c13438af",
   "metadata": {},
   "outputs": [
    {
     "data": {
      "text/plain": [
       "7    51276\n",
       "0    15903\n",
       "1       21\n",
       "Name: lobby_type, dtype: int64"
      ]
     },
     "execution_count": 267,
     "metadata": {},
     "output_type": "execute_result"
    }
   ],
   "source": [
    "# https://github.com/odota/dotaconstants/blob/master/json/lobby_type.json\n",
    "public_matches_df.lobby_type.value_counts()"
   ]
  },
  {
   "cell_type": "code",
   "execution_count": 268,
   "id": "b5e930be",
   "metadata": {},
   "outputs": [
    {
     "data": {
      "text/plain": [
       "22    61422\n",
       "4      3219\n",
       "3      2358\n",
       "2       125\n",
       "5        71\n",
       "16        5\n",
       "Name: game_mode, dtype: int64"
      ]
     },
     "execution_count": 268,
     "metadata": {},
     "output_type": "execute_result"
    }
   ],
   "source": [
    "# https://github.com/odota/dotaconstants/blob/master/json/game_mode.json\n",
    "public_matches_df.game_mode.value_counts()"
   ]
  },
  {
   "cell_type": "code",
   "execution_count": 269,
   "id": "d4db38db",
   "metadata": {},
   "outputs": [
    {
     "data": {
      "text/plain": [
       "<AxesSubplot: >"
      ]
     },
     "execution_count": 269,
     "metadata": {},
     "output_type": "execute_result"
    },
    {
     "data": {
      "image/png": "[encoded data removed]",
      "text/plain": [
       "<Figure size 640x480 with 1 Axes>"
      ]
     },
     "metadata": {},
     "output_type": "display_data"
    }
   ],
   "source": [
    "public_matches_df.cluster.hist()"
   ]
  },
  {
   "cell_type": "markdown",
   "id": "59e2463b",
   "metadata": {},
   "source": [
    "## Public matches details"
   ]
  },
  {
   "cell_type": "code",
   "execution_count": 202,
   "id": "5ffba846",
   "metadata": {},
   "outputs": [
    {
     "data": {
      "text/plain": [
       "10.0"
      ]
     },
     "execution_count": 202,
     "metadata": {},
     "output_type": "execute_result"
    }
   ],
   "source": [
    "100_000 * 0.01 / 100"
   ]
  },
  {
   "cell_type": "code",
   "execution_count": 358,
   "id": "eac945b2",
   "metadata": {},
   "outputs": [],
   "source": [
    "with open('../data/matches_details_p2.json') as f:\n",
    "    matches_details = json.load(f)"
   ]
  },
  {
   "cell_type": "markdown",
   "id": "fda68054",
   "metadata": {},
   "source": [
    "### Fix JSON file (in case of corruption during write)"
   ]
  },
  {
   "cell_type": "code",
   "execution_count": 271,
   "id": "79ad42ac",
   "metadata": {},
   "outputs": [],
   "source": [
    "with open('../data/matches_details_p2.json') as f:\n",
    "    matches_details_lines = f.readlines()\n",
    "\n",
    "check_n_last = 30_000"
   ]
  },
  {
   "cell_type": "code",
   "execution_count": 287,
   "id": "2c75bc4f",
   "metadata": {},
   "outputs": [],
   "source": [
    "# matches_details_lines[0][-check_n_last:]"
   ]
  },
  {
   "cell_type": "code",
   "execution_count": 335,
   "id": "0cbc337a",
   "metadata": {},
   "outputs": [],
   "source": [
    "index_f = matches_details_lines[0][-check_n_last:].index(\n",
    "    '{\"match_id\": 6806986204, \"barracks_status_dire\": 0')\n",
    "\n",
    "matches_details_lines_fix = (matches_details_lines[0]\\\n",
    " [:-(check_n_last - index_f + 2)] + ']')"
   ]
  },
  {
   "cell_type": "code",
   "execution_count": 350,
   "id": "8446e072",
   "metadata": {},
   "outputs": [
    {
     "data": {
      "text/plain": [
       "'ch\": 51, \"region\": 8, \"replay_url\": \"http://replay183.valve.net/570/6806461912_1614763597.dem.bz2\"}]'"
      ]
     },
     "execution_count": 350,
     "metadata": {},
     "output_type": "execute_result"
    }
   ],
   "source": [
    "matches_details_lines_fix[-100:]"
   ]
  },
  {
   "cell_type": "code",
   "execution_count": 354,
   "id": "143f6f0f",
   "metadata": {},
   "outputs": [],
   "source": [
    "matches_details_lines_fix = json.loads(\n",
    "    matches_details_lines_fix)\n",
    "\n",
    "with open('../data/matches_details_p2.json', 'w') as f:\n",
    "    json.dump(matches_details_lines_fix, f)"
   ]
  },
  {
   "cell_type": "markdown",
   "id": "3f786026",
   "metadata": {},
   "source": [
    "End of file fix"
   ]
  },
  {
   "cell_type": "markdown",
   "id": "dca61f12",
   "metadata": {},
   "source": [
    "---"
   ]
  },
  {
   "cell_type": "code",
   "execution_count": 359,
   "id": "dce372f6",
   "metadata": {},
   "outputs": [],
   "source": [
    "matches_details_df = pd.DataFrame(matches_details)"
   ]
  },
  {
   "cell_type": "code",
   "execution_count": 360,
   "id": "0116a382",
   "metadata": {},
   "outputs": [
    {
     "data": {
      "text/plain": [
       "(12442, 48)"
      ]
     },
     "execution_count": 360,
     "metadata": {},
     "output_type": "execute_result"
    }
   ],
   "source": [
    "matches_details_df.shape"
   ]
  },
  {
   "cell_type": "code",
   "execution_count": 361,
   "id": "dc89cb65",
   "metadata": {},
   "outputs": [
    {
     "data": {
      "text/html": [
       "<div>\n",
       "<style scoped>\n",
       "    .dataframe tbody tr th:only-of-type {\n",
       "        vertical-align: middle;\n",
       "    }\n",
       "\n",
       "    .dataframe tbody tr th {\n",
       "        vertical-align: top;\n",
       "    }\n",
       "\n",
       "    .dataframe thead th {\n",
       "        text-align: right;\n",
       "    }\n",
       "</style>\n",
       "<table border=\"1\" class=\"dataframe\">\n",
       "  <thead>\n",
       "    <tr style=\"text-align: right;\">\n",
       "      <th></th>\n",
       "      <th>match_id</th>\n",
       "      <th>barracks_status_dire</th>\n",
       "      <th>barracks_status_radiant</th>\n",
       "      <th>chat</th>\n",
       "      <th>cluster</th>\n",
       "      <th>cosmetics</th>\n",
       "      <th>dire_score</th>\n",
       "      <th>dire_team_id</th>\n",
       "      <th>draft_timings</th>\n",
       "      <th>duration</th>\n",
       "      <th>engine</th>\n",
       "      <th>first_blood_time</th>\n",
       "      <th>game_mode</th>\n",
       "      <th>human_players</th>\n",
       "      <th>leagueid</th>\n",
       "      <th>lobby_type</th>\n",
       "      <th>match_seq_num</th>\n",
       "      <th>negative_votes</th>\n",
       "      <th>objectives</th>\n",
       "      <th>picks_bans</th>\n",
       "      <th>positive_votes</th>\n",
       "      <th>radiant_gold_adv</th>\n",
       "      <th>radiant_score</th>\n",
       "      <th>radiant_team_id</th>\n",
       "      <th>radiant_win</th>\n",
       "      <th>radiant_xp_adv</th>\n",
       "      <th>skill</th>\n",
       "      <th>start_time</th>\n",
       "      <th>teamfights</th>\n",
       "      <th>tower_status_dire</th>\n",
       "      <th>tower_status_radiant</th>\n",
       "      <th>version</th>\n",
       "      <th>replay_salt</th>\n",
       "      <th>series_id</th>\n",
       "      <th>series_type</th>\n",
       "      <th>players</th>\n",
       "      <th>patch</th>\n",
       "      <th>region</th>\n",
       "      <th>replay_url</th>\n",
       "      <th>all_word_counts</th>\n",
       "      <th>my_word_counts</th>\n",
       "      <th>throw</th>\n",
       "      <th>loss</th>\n",
       "      <th>league</th>\n",
       "      <th>radiant_team</th>\n",
       "      <th>dire_team</th>\n",
       "      <th>comeback</th>\n",
       "      <th>stomp</th>\n",
       "    </tr>\n",
       "  </thead>\n",
       "  <tbody>\n",
       "    <tr>\n",
       "      <th>12437</th>\n",
       "      <td>6806986202</td>\n",
       "      <td>3</td>\n",
       "      <td>63</td>\n",
       "      <td>None</td>\n",
       "      <td>183</td>\n",
       "      <td>None</td>\n",
       "      <td>28</td>\n",
       "      <td>NaN</td>\n",
       "      <td>None</td>\n",
       "      <td>2363</td>\n",
       "      <td>1</td>\n",
       "      <td>77</td>\n",
       "      <td>22</td>\n",
       "      <td>10</td>\n",
       "      <td>0</td>\n",
       "      <td>0</td>\n",
       "      <td>5699891576</td>\n",
       "      <td>0</td>\n",
       "      <td>None</td>\n",
       "      <td>[{'is_pick': True, 'hero_id': 44, 'team': 0, '...</td>\n",
       "      <td>0</td>\n",
       "      <td>None</td>\n",
       "      <td>35</td>\n",
       "      <td>NaN</td>\n",
       "      <td>True</td>\n",
       "      <td>None</td>\n",
       "      <td>None</td>\n",
       "      <td>1665848186</td>\n",
       "      <td>None</td>\n",
       "      <td>6</td>\n",
       "      <td>1958</td>\n",
       "      <td>NaN</td>\n",
       "      <td>1.765668e+09</td>\n",
       "      <td>0.0</td>\n",
       "      <td>0.0</td>\n",
       "      <td>[{'match_id': 6806986202, 'player_slot': 0, 'a...</td>\n",
       "      <td>51</td>\n",
       "      <td>8</td>\n",
       "      <td>http://replay183.valve.net/570/6806986202_1765...</td>\n",
       "      <td>NaN</td>\n",
       "      <td>NaN</td>\n",
       "      <td>NaN</td>\n",
       "      <td>NaN</td>\n",
       "      <td>NaN</td>\n",
       "      <td>NaN</td>\n",
       "      <td>NaN</td>\n",
       "      <td>NaN</td>\n",
       "      <td>NaN</td>\n",
       "    </tr>\n",
       "    <tr>\n",
       "      <th>12438</th>\n",
       "      <td>6806986201</td>\n",
       "      <td>59</td>\n",
       "      <td>3</td>\n",
       "      <td>None</td>\n",
       "      <td>227</td>\n",
       "      <td>None</td>\n",
       "      <td>54</td>\n",
       "      <td>NaN</td>\n",
       "      <td>None</td>\n",
       "      <td>3241</td>\n",
       "      <td>1</td>\n",
       "      <td>8</td>\n",
       "      <td>22</td>\n",
       "      <td>10</td>\n",
       "      <td>0</td>\n",
       "      <td>7</td>\n",
       "      <td>5699915811</td>\n",
       "      <td>0</td>\n",
       "      <td>None</td>\n",
       "      <td>[{'is_pick': True, 'hero_id': 10, 'team': 0, '...</td>\n",
       "      <td>0</td>\n",
       "      <td>None</td>\n",
       "      <td>48</td>\n",
       "      <td>NaN</td>\n",
       "      <td>True</td>\n",
       "      <td>None</td>\n",
       "      <td>None</td>\n",
       "      <td>1665848193</td>\n",
       "      <td>None</td>\n",
       "      <td>260</td>\n",
       "      <td>1540</td>\n",
       "      <td>NaN</td>\n",
       "      <td>1.077621e+09</td>\n",
       "      <td>0.0</td>\n",
       "      <td>0.0</td>\n",
       "      <td>[{'match_id': 6806986201, 'player_slot': 0, 'a...</td>\n",
       "      <td>51</td>\n",
       "      <td>20</td>\n",
       "      <td>http://replay227.valve.net/570/6806986201_1077...</td>\n",
       "      <td>NaN</td>\n",
       "      <td>NaN</td>\n",
       "      <td>NaN</td>\n",
       "      <td>NaN</td>\n",
       "      <td>NaN</td>\n",
       "      <td>NaN</td>\n",
       "      <td>NaN</td>\n",
       "      <td>NaN</td>\n",
       "      <td>NaN</td>\n",
       "    </tr>\n",
       "    <tr>\n",
       "      <th>12439</th>\n",
       "      <td>6806986203</td>\n",
       "      <td>63</td>\n",
       "      <td>48</td>\n",
       "      <td>None</td>\n",
       "      <td>154</td>\n",
       "      <td>None</td>\n",
       "      <td>33</td>\n",
       "      <td>NaN</td>\n",
       "      <td>None</td>\n",
       "      <td>1308</td>\n",
       "      <td>1</td>\n",
       "      <td>50</td>\n",
       "      <td>22</td>\n",
       "      <td>10</td>\n",
       "      <td>0</td>\n",
       "      <td>7</td>\n",
       "      <td>5699861730</td>\n",
       "      <td>0</td>\n",
       "      <td>None</td>\n",
       "      <td>[{'is_pick': True, 'hero_id': 104, 'team': 0, ...</td>\n",
       "      <td>0</td>\n",
       "      <td>None</td>\n",
       "      <td>8</td>\n",
       "      <td>NaN</td>\n",
       "      <td>False</td>\n",
       "      <td>None</td>\n",
       "      <td>None</td>\n",
       "      <td>1665848199</td>\n",
       "      <td>None</td>\n",
       "      <td>2047</td>\n",
       "      <td>0</td>\n",
       "      <td>NaN</td>\n",
       "      <td>9.762794e+08</td>\n",
       "      <td>0.0</td>\n",
       "      <td>0.0</td>\n",
       "      <td>[{'match_id': 6806986203, 'player_slot': 0, 'a...</td>\n",
       "      <td>51</td>\n",
       "      <td>5</td>\n",
       "      <td>http://replay154.valve.net/570/6806986203_9762...</td>\n",
       "      <td>NaN</td>\n",
       "      <td>NaN</td>\n",
       "      <td>NaN</td>\n",
       "      <td>NaN</td>\n",
       "      <td>NaN</td>\n",
       "      <td>NaN</td>\n",
       "      <td>NaN</td>\n",
       "      <td>NaN</td>\n",
       "      <td>NaN</td>\n",
       "    </tr>\n",
       "    <tr>\n",
       "      <th>12440</th>\n",
       "      <td>6806986205</td>\n",
       "      <td>63</td>\n",
       "      <td>0</td>\n",
       "      <td>None</td>\n",
       "      <td>144</td>\n",
       "      <td>None</td>\n",
       "      <td>56</td>\n",
       "      <td>NaN</td>\n",
       "      <td>None</td>\n",
       "      <td>3199</td>\n",
       "      <td>1</td>\n",
       "      <td>166</td>\n",
       "      <td>22</td>\n",
       "      <td>10</td>\n",
       "      <td>0</td>\n",
       "      <td>0</td>\n",
       "      <td>5699913993</td>\n",
       "      <td>0</td>\n",
       "      <td>None</td>\n",
       "      <td>[{'is_pick': True, 'hero_id': 81, 'team': 0, '...</td>\n",
       "      <td>0</td>\n",
       "      <td>None</td>\n",
       "      <td>44</td>\n",
       "      <td>NaN</td>\n",
       "      <td>False</td>\n",
       "      <td>None</td>\n",
       "      <td>None</td>\n",
       "      <td>1665848204</td>\n",
       "      <td>None</td>\n",
       "      <td>2038</td>\n",
       "      <td>0</td>\n",
       "      <td>NaN</td>\n",
       "      <td>1.863567e+09</td>\n",
       "      <td>0.0</td>\n",
       "      <td>0.0</td>\n",
       "      <td>[{'match_id': 6806986205, 'player_slot': 0, 'a...</td>\n",
       "      <td>51</td>\n",
       "      <td>19</td>\n",
       "      <td>http://replay144.valve.net/570/6806986205_1863...</td>\n",
       "      <td>NaN</td>\n",
       "      <td>NaN</td>\n",
       "      <td>NaN</td>\n",
       "      <td>NaN</td>\n",
       "      <td>NaN</td>\n",
       "      <td>NaN</td>\n",
       "      <td>NaN</td>\n",
       "      <td>NaN</td>\n",
       "      <td>NaN</td>\n",
       "    </tr>\n",
       "    <tr>\n",
       "      <th>12441</th>\n",
       "      <td>6806461912</td>\n",
       "      <td>51</td>\n",
       "      <td>0</td>\n",
       "      <td>None</td>\n",
       "      <td>183</td>\n",
       "      <td>None</td>\n",
       "      <td>71</td>\n",
       "      <td>NaN</td>\n",
       "      <td>None</td>\n",
       "      <td>3658</td>\n",
       "      <td>1</td>\n",
       "      <td>78</td>\n",
       "      <td>22</td>\n",
       "      <td>10</td>\n",
       "      <td>0</td>\n",
       "      <td>0</td>\n",
       "      <td>5699448735</td>\n",
       "      <td>0</td>\n",
       "      <td>None</td>\n",
       "      <td>[{'is_pick': True, 'hero_id': 14, 'team': 0, '...</td>\n",
       "      <td>0</td>\n",
       "      <td>None</td>\n",
       "      <td>52</td>\n",
       "      <td>NaN</td>\n",
       "      <td>False</td>\n",
       "      <td>None</td>\n",
       "      <td>None</td>\n",
       "      <td>1665828437</td>\n",
       "      <td>None</td>\n",
       "      <td>1796</td>\n",
       "      <td>0</td>\n",
       "      <td>NaN</td>\n",
       "      <td>1.614764e+09</td>\n",
       "      <td>0.0</td>\n",
       "      <td>0.0</td>\n",
       "      <td>[{'match_id': 6806461912, 'player_slot': 0, 'a...</td>\n",
       "      <td>51</td>\n",
       "      <td>8</td>\n",
       "      <td>http://replay183.valve.net/570/6806461912_1614...</td>\n",
       "      <td>NaN</td>\n",
       "      <td>NaN</td>\n",
       "      <td>NaN</td>\n",
       "      <td>NaN</td>\n",
       "      <td>NaN</td>\n",
       "      <td>NaN</td>\n",
       "      <td>NaN</td>\n",
       "      <td>NaN</td>\n",
       "      <td>NaN</td>\n",
       "    </tr>\n",
       "  </tbody>\n",
       "</table>\n",
       "</div>"
      ],
      "text/plain": [
       "         match_id  barracks_status_dire  barracks_status_radiant  chat  \\\n",
       "12437  6806986202                     3                       63  None   \n",
       "12438  6806986201                    59                        3  None   \n",
       "12439  6806986203                    63                       48  None   \n",
       "12440  6806986205                    63                        0  None   \n",
       "12441  6806461912                    51                        0  None   \n",
       "\n",
       "       cluster cosmetics  dire_score  dire_team_id draft_timings  duration  \\\n",
       "12437      183      None          28           NaN          None      2363   \n",
       "12438      227      None          54           NaN          None      3241   \n",
       "12439      154      None          33           NaN          None      1308   \n",
       "12440      144      None          56           NaN          None      3199   \n",
       "12441      183      None          71           NaN          None      3658   \n",
       "\n",
       "       engine  first_blood_time  game_mode  human_players  leagueid  \\\n",
       "12437       1                77         22             10         0   \n",
       "12438       1                 8         22             10         0   \n",
       "12439       1                50         22             10         0   \n",
       "12440       1               166         22             10         0   \n",
       "12441       1                78         22             10         0   \n",
       "\n",
       "       lobby_type  match_seq_num  negative_votes objectives  \\\n",
       "12437           0     5699891576               0       None   \n",
       "12438           7     5699915811               0       None   \n",
       "12439           7     5699861730               0       None   \n",
       "12440           0     5699913993               0       None   \n",
       "12441           0     5699448735               0       None   \n",
       "\n",
       "                                              picks_bans  positive_votes  \\\n",
       "12437  [{'is_pick': True, 'hero_id': 44, 'team': 0, '...               0   \n",
       "12438  [{'is_pick': True, 'hero_id': 10, 'team': 0, '...               0   \n",
       "12439  [{'is_pick': True, 'hero_id': 104, 'team': 0, ...               0   \n",
       "12440  [{'is_pick': True, 'hero_id': 81, 'team': 0, '...               0   \n",
       "12441  [{'is_pick': True, 'hero_id': 14, 'team': 0, '...               0   \n",
       "\n",
       "      radiant_gold_adv  radiant_score  radiant_team_id  radiant_win  \\\n",
       "12437             None             35              NaN         True   \n",
       "12438             None             48              NaN         True   \n",
       "12439             None              8              NaN        False   \n",
       "12440             None             44              NaN        False   \n",
       "12441             None             52              NaN        False   \n",
       "\n",
       "      radiant_xp_adv skill  start_time teamfights  tower_status_dire  \\\n",
       "12437           None  None  1665848186       None                  6   \n",
       "12438           None  None  1665848193       None                260   \n",
       "12439           None  None  1665848199       None               2047   \n",
       "12440           None  None  1665848204       None               2038   \n",
       "12441           None  None  1665828437       None               1796   \n",
       "\n",
       "       tower_status_radiant  version   replay_salt  series_id  series_type  \\\n",
       "12437                  1958      NaN  1.765668e+09        0.0          0.0   \n",
       "12438                  1540      NaN  1.077621e+09        0.0          0.0   \n",
       "12439                     0      NaN  9.762794e+08        0.0          0.0   \n",
       "12440                     0      NaN  1.863567e+09        0.0          0.0   \n",
       "12441                     0      NaN  1.614764e+09        0.0          0.0   \n",
       "\n",
       "                                                 players  patch  region  \\\n",
       "12437  [{'match_id': 6806986202, 'player_slot': 0, 'a...     51       8   \n",
       "12438  [{'match_id': 6806986201, 'player_slot': 0, 'a...     51      20   \n",
       "12439  [{'match_id': 6806986203, 'player_slot': 0, 'a...     51       5   \n",
       "12440  [{'match_id': 6806986205, 'player_slot': 0, 'a...     51      19   \n",
       "12441  [{'match_id': 6806461912, 'player_slot': 0, 'a...     51       8   \n",
       "\n",
       "                                              replay_url all_word_counts  \\\n",
       "12437  http://replay183.valve.net/570/6806986202_1765...             NaN   \n",
       "12438  http://replay227.valve.net/570/6806986201_1077...             NaN   \n",
       "12439  http://replay154.valve.net/570/6806986203_9762...             NaN   \n",
       "12440  http://replay144.valve.net/570/6806986205_1863...             NaN   \n",
       "12441  http://replay183.valve.net/570/6806461912_1614...             NaN   \n",
       "\n",
       "      my_word_counts  throw  loss league radiant_team dire_team  comeback  \\\n",
       "12437            NaN    NaN   NaN    NaN          NaN       NaN       NaN   \n",
       "12438            NaN    NaN   NaN    NaN          NaN       NaN       NaN   \n",
       "12439            NaN    NaN   NaN    NaN          NaN       NaN       NaN   \n",
       "12440            NaN    NaN   NaN    NaN          NaN       NaN       NaN   \n",
       "12441            NaN    NaN   NaN    NaN          NaN       NaN       NaN   \n",
       "\n",
       "       stomp  \n",
       "12437    NaN  \n",
       "12438    NaN  \n",
       "12439    NaN  \n",
       "12440    NaN  \n",
       "12441    NaN  "
      ]
     },
     "execution_count": 361,
     "metadata": {},
     "output_type": "execute_result"
    }
   ],
   "source": [
    "matches_details_df.tail()"
   ]
  },
  {
   "cell_type": "code",
   "execution_count": 362,
   "id": "6052ac98",
   "metadata": {},
   "outputs": [],
   "source": [
    "matches_details_df = matches_details_df[\n",
    "    ~matches_details_df.match_id.isna()]"
   ]
  },
  {
   "cell_type": "code",
   "execution_count": 363,
   "id": "062b6897",
   "metadata": {},
   "outputs": [
    {
     "data": {
      "text/plain": [
       "(12442, 48)"
      ]
     },
     "execution_count": 363,
     "metadata": {},
     "output_type": "execute_result"
    }
   ],
   "source": [
    "matches_details_df.shape"
   ]
  },
  {
   "cell_type": "code",
   "execution_count": 364,
   "id": "807ac0b0",
   "metadata": {},
   "outputs": [
    {
     "data": {
      "text/plain": [
       "<AxesSubplot: >"
      ]
     },
     "execution_count": 364,
     "metadata": {},
     "output_type": "execute_result"
    },
    {
     "data": {
      "image/png": "[encoded data removed]",
      "text/plain": [
       "<Figure size 640x480 with 1 Axes>"
      ]
     },
     "metadata": {},
     "output_type": "display_data"
    }
   ],
   "source": [
    "matches_details_df[~matches_details_df.radiant_win.isna()]\\\n",
    "    .radiant_win.astype(int).hist()"
   ]
  },
  {
   "cell_type": "code",
   "execution_count": 365,
   "id": "b5f9ba8c",
   "metadata": {},
   "outputs": [],
   "source": [
    "matches_with_chat = matches_details_df[\n",
    "    ~matches_details_df.chat.isna()]"
   ]
  },
  {
   "cell_type": "code",
   "execution_count": 366,
   "id": "125dd4b2",
   "metadata": {
    "scrolled": true
   },
   "outputs": [
    {
     "data": {
      "text/plain": [
       "(47, 48)"
      ]
     },
     "execution_count": 366,
     "metadata": {},
     "output_type": "execute_result"
    }
   ],
   "source": [
    "matches_with_chat.shape"
   ]
  },
  {
   "cell_type": "code",
   "execution_count": 367,
   "id": "fc286adb",
   "metadata": {},
   "outputs": [
    {
     "name": "stderr",
     "output_type": "stream",
     "text": [
      "/var/folders/_1/51tlm4vx6rj6_81hp_5k3rg00000gn/T/ipykernel_43577/1222791709.py:1: SettingWithCopyWarning: \n",
      "A value is trying to be set on a copy of a slice from a DataFrame.\n",
      "Try using .loc[row_indexer,col_indexer] = value instead\n",
      "\n",
      "See the caveats in the documentation: https://pandas.pydata.org/pandas-docs/stable/user_guide/indexing.html#returning-a-view-versus-a-copy\n",
      "  matches_with_chat['chat_count'] = \\\n"
     ]
    }
   ],
   "source": [
    "matches_with_chat['chat_count'] = \\\n",
    "    matches_with_chat.chat.apply(\n",
    "    lambda item: sum([x['type'] == 'chat' for x in item]))"
   ]
  },
  {
   "cell_type": "code",
   "execution_count": 368,
   "id": "1002bbc2",
   "metadata": {},
   "outputs": [
    {
     "data": {
      "text/plain": [
       "<AxesSubplot: >"
      ]
     },
     "execution_count": 368,
     "metadata": {},
     "output_type": "execute_result"
    },
    {
     "data": {
      "image/png": "[encoded data removed]",
      "text/plain": [
       "<Figure size 640x480 with 1 Axes>"
      ]
     },
     "metadata": {},
     "output_type": "display_data"
    }
   ],
   "source": [
    "matches_with_chat.chat_count.hist()"
   ]
  },
  {
   "cell_type": "code",
   "execution_count": 369,
   "id": "d1ae342c",
   "metadata": {},
   "outputs": [
    {
     "data": {
      "text/plain": [
       "42"
      ]
     },
     "execution_count": 369,
     "metadata": {},
     "output_type": "execute_result"
    }
   ],
   "source": [
    "(matches_with_chat.chat_count > 1).sum()"
   ]
  },
  {
   "cell_type": "code",
   "execution_count": 370,
   "id": "016c0fc4",
   "metadata": {},
   "outputs": [
    {
     "data": {
      "text/plain": [
       "425.00000000000006"
      ]
     },
     "execution_count": 370,
     "metadata": {},
     "output_type": "execute_result"
    }
   ],
   "source": [
    "17 / 4000 * 100_000"
   ]
  },
  {
   "cell_type": "markdown",
   "id": "8c802b46",
   "metadata": {},
   "source": [
    "So, 200k public matches are needed"
   ]
  },
  {
   "cell_type": "code",
   "execution_count": 458,
   "id": "b0e05dfb",
   "metadata": {},
   "outputs": [],
   "source": [
    "i = 29\n",
    "one_chat = matches_with_chat.chat.values[i]"
   ]
  },
  {
   "cell_type": "code",
   "execution_count": 459,
   "id": "e811b444",
   "metadata": {},
   "outputs": [
    {
     "data": {
      "text/plain": [
       "chatwheel    39\n",
       "chat         22\n",
       "dtype: int64"
      ]
     },
     "execution_count": 459,
     "metadata": {},
     "output_type": "execute_result"
    }
   ],
   "source": [
    "pd.Series.value_counts([c['type'] for c in one_chat])"
   ]
  },
  {
   "cell_type": "code",
   "execution_count": 460,
   "id": "529118d7",
   "metadata": {},
   "outputs": [
    {
     "data": {
      "text/plain": [
       "['who are you boosting today tinker? : -1min',\n",
       " 'gg : 9min',\n",
       " 'report stalker : 9min',\n",
       " '3 bashes 4 hits : 20min',\n",
       " 'good stats : 20min',\n",
       " 'end  : 27min',\n",
       " 'wp : 27min',\n",
       " 'end : 28min',\n",
       " 'xD : 29min',\n",
       " 'report phoenix and shmana and luna grieffing : 29min',\n",
       " 'phoenix good player : 29min',\n",
       " 'shaman too : 29min',\n",
       " 'but you : 29min',\n",
       " '3 null : 29min',\n",
       " ')) : 29min',\n",
       " 'if my team is not feeded yyou i just rekt you all time : 30min',\n",
       " 'gg : 30min',\n",
       " 'ez mid : 30min',\n",
       " 'ez : 31min',\n",
       " 'Axaxaxa : 31min',\n",
       " 'gg : 31min',\n",
       " 'gg booster : 31min']"
      ]
     },
     "execution_count": 460,
     "metadata": {},
     "output_type": "execute_result"
    }
   ],
   "source": [
    "[f\"{c['key']} : {c['time'] // 60}min\" \\\n",
    " for c in one_chat if c['type'] == 'chat']"
   ]
  },
  {
   "cell_type": "markdown",
   "id": "8631083f",
   "metadata": {},
   "source": [
    "---"
   ]
  },
  {
   "cell_type": "markdown",
   "id": "7ff3fecd",
   "metadata": {},
   "source": [
    "First part: from 6808764903 100k; second part: 6807096016 70k; third part: from 6805855815 70k."
   ]
  },
  {
   "cell_type": "code",
   "execution_count": 242,
   "id": "04644390",
   "metadata": {},
   "outputs": [
    {
     "data": {
      "text/plain": [
       "[6805855815,\n",
       " 6805855817,\n",
       " 6805855818,\n",
       " 6805855900,\n",
       " 6805855902,\n",
       " 6805855904,\n",
       " 6805855907,\n",
       " 6805855917,\n",
       " 6805855918,\n",
       " 6805856000]"
      ]
     },
     "execution_count": 242,
     "metadata": {},
     "output_type": "execute_result"
    }
   ],
   "source": [
    "sorted(public_matches_df.match_id.values)[:10]"
   ]
  },
  {
   "cell_type": "code",
   "execution_count": null,
   "id": "7775e9db",
   "metadata": {},
   "outputs": [],
   "source": []
  }
 ],
 "metadata": {
  "kernelspec": {
   "display_name": "dota2",
   "language": "python",
   "name": "dota2"
  },
  "language_info": {
   "codemirror_mode": {
    "name": "ipython",
    "version": 3
   },
   "file_extension": ".py",
   "mimetype": "text/x-python",
   "name": "python",
   "nbconvert_exporter": "python",
   "pygments_lexer": "ipython3",
   "version": "3.9.13"
  }
 },
 "nbformat": 4,
 "nbformat_minor": 5
}
