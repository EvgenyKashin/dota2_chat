{
 "cells": [
  {
   "cell_type": "code",
   "execution_count": 13,
   "id": "24adf088",
   "metadata": {},
   "outputs": [],
   "source": [
    "import json\n",
    "import pandas as pd\n",
    "import datetime\n",
    "\n",
    "import matplotlib.pyplot as plt"
   ]
  },
  {
   "cell_type": "code",
   "execution_count": 68,
   "id": "ca5fe4a8",
   "metadata": {},
   "outputs": [],
   "source": [
    "pd.set_option('display.max_columns', 100)"
   ]
  },
  {
   "cell_type": "markdown",
   "id": "b98313ce",
   "metadata": {},
   "source": [
    "## Public matches (general info)"
   ]
  },
  {
   "cell_type": "code",
   "execution_count": 43,
   "id": "cebd5579",
   "metadata": {},
   "outputs": [],
   "source": [
    "with open('../data/public_matches.json') as f:\n",
    "    public_matches = json.load(f)"
   ]
  },
  {
   "cell_type": "code",
   "execution_count": 44,
   "id": "d9c9592b",
   "metadata": {},
   "outputs": [],
   "source": [
    "public_matches_df = pd.DataFrame(public_matches)\n",
    "public_matches_df['start_time'] = pd.to_datetime(\n",
    "    public_matches_df.start_time,unit='s')"
   ]
  },
  {
   "cell_type": "code",
   "execution_count": 45,
   "id": "81884938",
   "metadata": {},
   "outputs": [
    {
     "data": {
      "text/plain": [
       "(100000, 14)"
      ]
     },
     "execution_count": 45,
     "metadata": {},
     "output_type": "execute_result"
    }
   ],
   "source": [
    "public_matches_df.shape"
   ]
  },
  {
   "cell_type": "code",
   "execution_count": 46,
   "id": "7e033741",
   "metadata": {},
   "outputs": [
    {
     "data": {
      "text/html": [
       "<div>\n",
       "<style scoped>\n",
       "    .dataframe tbody tr th:only-of-type {\n",
       "        vertical-align: middle;\n",
       "    }\n",
       "\n",
       "    .dataframe tbody tr th {\n",
       "        vertical-align: top;\n",
       "    }\n",
       "\n",
       "    .dataframe thead th {\n",
       "        text-align: right;\n",
       "    }\n",
       "</style>\n",
       "<table border=\"1\" class=\"dataframe\">\n",
       "  <thead>\n",
       "    <tr style=\"text-align: right;\">\n",
       "      <th></th>\n",
       "      <th>match_id</th>\n",
       "      <th>match_seq_num</th>\n",
       "      <th>radiant_win</th>\n",
       "      <th>start_time</th>\n",
       "      <th>duration</th>\n",
       "      <th>avg_mmr</th>\n",
       "      <th>num_mmr</th>\n",
       "      <th>lobby_type</th>\n",
       "      <th>game_mode</th>\n",
       "      <th>avg_rank_tier</th>\n",
       "      <th>num_rank_tier</th>\n",
       "      <th>cluster</th>\n",
       "      <th>radiant_team</th>\n",
       "      <th>dire_team</th>\n",
       "    </tr>\n",
       "  </thead>\n",
       "  <tbody>\n",
       "    <tr>\n",
       "      <th>0</th>\n",
       "      <td>6808764902</td>\n",
       "      <td>5701512375</td>\n",
       "      <td>False</td>\n",
       "      <td>2022-10-16 15:33:11</td>\n",
       "      <td>3160</td>\n",
       "      <td>2574.0</td>\n",
       "      <td>1.0</td>\n",
       "      <td>7</td>\n",
       "      <td>22</td>\n",
       "      <td>44</td>\n",
       "      <td>4</td>\n",
       "      <td>184</td>\n",
       "      <td>8,2,135,39,75</td>\n",
       "      <td>19,129,51,6,84</td>\n",
       "    </tr>\n",
       "    <tr>\n",
       "      <th>1</th>\n",
       "      <td>6808764901</td>\n",
       "      <td>5701493794</td>\n",
       "      <td>True</td>\n",
       "      <td>2022-10-16 15:33:10</td>\n",
       "      <td>2522</td>\n",
       "      <td>3876.0</td>\n",
       "      <td>3.0</td>\n",
       "      <td>7</td>\n",
       "      <td>22</td>\n",
       "      <td>54</td>\n",
       "      <td>8</td>\n",
       "      <td>183</td>\n",
       "      <td>6,50,49,52,22</td>\n",
       "      <td>44,87,2,74,25</td>\n",
       "    </tr>\n",
       "    <tr>\n",
       "      <th>2</th>\n",
       "      <td>6808764900</td>\n",
       "      <td>5701487411</td>\n",
       "      <td>True</td>\n",
       "      <td>2022-10-16 15:32:57</td>\n",
       "      <td>2252</td>\n",
       "      <td>NaN</td>\n",
       "      <td>NaN</td>\n",
       "      <td>7</td>\n",
       "      <td>22</td>\n",
       "      <td>13</td>\n",
       "      <td>2</td>\n",
       "      <td>251</td>\n",
       "      <td>19,84,64,16,39</td>\n",
       "      <td>26,12,27,136,8</td>\n",
       "    </tr>\n",
       "    <tr>\n",
       "      <th>3</th>\n",
       "      <td>6808764819</td>\n",
       "      <td>5701481355</td>\n",
       "      <td>False</td>\n",
       "      <td>2022-10-16 15:33:26</td>\n",
       "      <td>2039</td>\n",
       "      <td>4178.0</td>\n",
       "      <td>2.0</td>\n",
       "      <td>7</td>\n",
       "      <td>22</td>\n",
       "      <td>51</td>\n",
       "      <td>4</td>\n",
       "      <td>153</td>\n",
       "      <td>26,102,41,137,13</td>\n",
       "      <td>106,96,7,52,5</td>\n",
       "    </tr>\n",
       "    <tr>\n",
       "      <th>4</th>\n",
       "      <td>6808764815</td>\n",
       "      <td>5701476969</td>\n",
       "      <td>False</td>\n",
       "      <td>2022-10-16 15:33:21</td>\n",
       "      <td>1930</td>\n",
       "      <td>NaN</td>\n",
       "      <td>NaN</td>\n",
       "      <td>0</td>\n",
       "      <td>4</td>\n",
       "      <td>53</td>\n",
       "      <td>3</td>\n",
       "      <td>274</td>\n",
       "      <td>12,23,25,20,33</td>\n",
       "      <td>86,101,62,82,109</td>\n",
       "    </tr>\n",
       "  </tbody>\n",
       "</table>\n",
       "</div>"
      ],
      "text/plain": [
       "     match_id  match_seq_num  radiant_win          start_time  duration  \\\n",
       "0  6808764902     5701512375        False 2022-10-16 15:33:11      3160   \n",
       "1  6808764901     5701493794         True 2022-10-16 15:33:10      2522   \n",
       "2  6808764900     5701487411         True 2022-10-16 15:32:57      2252   \n",
       "3  6808764819     5701481355        False 2022-10-16 15:33:26      2039   \n",
       "4  6808764815     5701476969        False 2022-10-16 15:33:21      1930   \n",
       "\n",
       "   avg_mmr  num_mmr  lobby_type  game_mode  avg_rank_tier  num_rank_tier  \\\n",
       "0   2574.0      1.0           7         22             44              4   \n",
       "1   3876.0      3.0           7         22             54              8   \n",
       "2      NaN      NaN           7         22             13              2   \n",
       "3   4178.0      2.0           7         22             51              4   \n",
       "4      NaN      NaN           0          4             53              3   \n",
       "\n",
       "   cluster      radiant_team         dire_team  \n",
       "0      184     8,2,135,39,75    19,129,51,6,84  \n",
       "1      183     6,50,49,52,22     44,87,2,74,25  \n",
       "2      251    19,84,64,16,39    26,12,27,136,8  \n",
       "3      153  26,102,41,137,13     106,96,7,52,5  \n",
       "4      274    12,23,25,20,33  86,101,62,82,109  "
      ]
     },
     "execution_count": 46,
     "metadata": {},
     "output_type": "execute_result"
    }
   ],
   "source": [
    "public_matches_df.head()"
   ]
  },
  {
   "cell_type": "code",
   "execution_count": 47,
   "id": "d8bbeef5",
   "metadata": {},
   "outputs": [
    {
     "data": {
      "text/plain": [
       "0       2022-10-16 15:33:11\n",
       "1       2022-10-16 15:33:10\n",
       "2       2022-10-16 15:32:57\n",
       "3       2022-10-16 15:33:26\n",
       "4       2022-10-16 15:33:21\n",
       "                ...        \n",
       "99995   2022-10-15 16:36:48\n",
       "99996   2022-10-15 16:36:48\n",
       "99997   2022-10-15 16:36:48\n",
       "99998   2022-10-15 16:36:42\n",
       "99999   2022-10-15 16:36:42\n",
       "Name: start_time, Length: 100000, dtype: datetime64[ns]"
      ]
     },
     "execution_count": 47,
     "metadata": {},
     "output_type": "execute_result"
    }
   ],
   "source": [
    "public_matches_df.start_time"
   ]
  },
  {
   "cell_type": "code",
   "execution_count": 48,
   "id": "25207485",
   "metadata": {},
   "outputs": [
    {
     "data": {
      "text/plain": [
       "<AxesSubplot: >"
      ]
     },
     "execution_count": 48,
     "metadata": {},
     "output_type": "execute_result"
    },
    {
     "data": {
      "image/png": "[encoded data removed]",
      "text/plain": [
       "<Figure size 640x480 with 1 Axes>"
      ]
     },
     "metadata": {},
     "output_type": "display_data"
    }
   ],
   "source": [
    "public_matches_df.duration.hist()"
   ]
  },
  {
   "cell_type": "code",
   "execution_count": 49,
   "id": "41bfc657",
   "metadata": {},
   "outputs": [
    {
     "data": {
      "text/plain": [
       "20.649833333333333"
      ]
     },
     "execution_count": 49,
     "metadata": {},
     "output_type": "execute_result"
    }
   ],
   "source": [
    "public_matches_df.duration.quantile(0.01) / 60"
   ]
  },
  {
   "cell_type": "code",
   "execution_count": 50,
   "id": "1c92544f",
   "metadata": {},
   "outputs": [
    {
     "data": {
      "text/plain": [
       "<AxesSubplot: >"
      ]
     },
     "execution_count": 50,
     "metadata": {},
     "output_type": "execute_result"
    },
    {
     "data": {
      "image/png": "[encoded data removed]",
      "text/plain": [
       "<Figure size 640x480 with 1 Axes>"
      ]
     },
     "metadata": {},
     "output_type": "display_data"
    }
   ],
   "source": [
    "public_matches_df.avg_mmr.hist()"
   ]
  },
  {
   "cell_type": "code",
   "execution_count": 51,
   "id": "c13438af",
   "metadata": {},
   "outputs": [
    {
     "data": {
      "text/plain": [
       "7    76505\n",
       "0    22855\n",
       "9      583\n",
       "1       57\n",
       "Name: lobby_type, dtype: int64"
      ]
     },
     "execution_count": 51,
     "metadata": {},
     "output_type": "execute_result"
    }
   ],
   "source": [
    "# https://github.com/odota/dotaconstants/blob/master/json/lobby_type.json\n",
    "public_matches_df.lobby_type.value_counts()"
   ]
  },
  {
   "cell_type": "code",
   "execution_count": 52,
   "id": "b5e930be",
   "metadata": {},
   "outputs": [
    {
     "data": {
      "text/plain": [
       "22    91595\n",
       "4      4562\n",
       "3      2956\n",
       "2       790\n",
       "5        95\n",
       "16        2\n",
       "Name: game_mode, dtype: int64"
      ]
     },
     "execution_count": 52,
     "metadata": {},
     "output_type": "execute_result"
    }
   ],
   "source": [
    "# https://github.com/odota/dotaconstants/blob/master/json/game_mode.json\n",
    "public_matches_df.game_mode.value_counts()"
   ]
  },
  {
   "cell_type": "code",
   "execution_count": 53,
   "id": "d4db38db",
   "metadata": {},
   "outputs": [
    {
     "data": {
      "text/plain": [
       "<AxesSubplot: >"
      ]
     },
     "execution_count": 53,
     "metadata": {},
     "output_type": "execute_result"
    },
    {
     "data": {
      "image/png": "[encoded data removed]",
      "text/plain": [
       "<Figure size 640x480 with 1 Axes>"
      ]
     },
     "metadata": {},
     "output_type": "display_data"
    }
   ],
   "source": [
    "public_matches_df.cluster.hist()"
   ]
  },
  {
   "cell_type": "markdown",
   "id": "59e2463b",
   "metadata": {},
   "source": [
    "## Public matches details"
   ]
  },
  {
   "cell_type": "code",
   "execution_count": 96,
   "id": "eac945b2",
   "metadata": {},
   "outputs": [],
   "source": [
    "with open('../data/matches_details.json') as f:\n",
    "    matches_details = json.load(f)"
   ]
  },
  {
   "cell_type": "code",
   "execution_count": 97,
   "id": "dce372f6",
   "metadata": {},
   "outputs": [],
   "source": [
    "matches_details_df = pd.DataFrame(matches_details)"
   ]
  },
  {
   "cell_type": "code",
   "execution_count": 98,
   "id": "0116a382",
   "metadata": {},
   "outputs": [
    {
     "data": {
      "text/plain": [
       "(2901, 46)"
      ]
     },
     "execution_count": 98,
     "metadata": {},
     "output_type": "execute_result"
    }
   ],
   "source": [
    "matches_details_df.shape"
   ]
  },
  {
   "cell_type": "code",
   "execution_count": 99,
   "id": "807ac0b0",
   "metadata": {},
   "outputs": [
    {
     "data": {
      "text/plain": [
       "<AxesSubplot: >"
      ]
     },
     "execution_count": 99,
     "metadata": {},
     "output_type": "execute_result"
    },
    {
     "data": {
      "image/png": "[encoded data removed]",
      "text/plain": [
       "<Figure size 640x480 with 1 Axes>"
      ]
     },
     "metadata": {},
     "output_type": "display_data"
    }
   ],
   "source": [
    "matches_details_df[~matches_details_df.radiant_win.isna()]\\\n",
    "    .radiant_win.astype(int).hist()"
   ]
  },
  {
   "cell_type": "code",
   "execution_count": 101,
   "id": "b5f9ba8c",
   "metadata": {},
   "outputs": [],
   "source": [
    "matches_with_chat = matches_details_df[\n",
    "    ~matches_details_df.chat.isna()]"
   ]
  },
  {
   "cell_type": "code",
   "execution_count": 102,
   "id": "125dd4b2",
   "metadata": {},
   "outputs": [
    {
     "data": {
      "text/plain": [
       "(6, 46)"
      ]
     },
     "execution_count": 102,
     "metadata": {},
     "output_type": "execute_result"
    }
   ],
   "source": [
    "matches_with_chat.shape"
   ]
  },
  {
   "cell_type": "code",
   "execution_count": 104,
   "id": "016c0fc4",
   "metadata": {},
   "outputs": [
    {
     "data": {
      "text/plain": [
       "200.0"
      ]
     },
     "execution_count": 104,
     "metadata": {},
     "output_type": "execute_result"
    }
   ],
   "source": [
    "6 / 3000 * 100_000"
   ]
  },
  {
   "cell_type": "code",
   "execution_count": 133,
   "id": "b0e05dfb",
   "metadata": {},
   "outputs": [],
   "source": [
    "one_chat = matches_with_chat.chat.values[5]"
   ]
  },
  {
   "cell_type": "code",
   "execution_count": 134,
   "id": "e811b444",
   "metadata": {},
   "outputs": [
    {
     "data": {
      "text/plain": [
       "['chatwheel',\n",
       " 'chatwheel',\n",
       " 'chatwheel',\n",
       " 'chatwheel',\n",
       " 'chatwheel',\n",
       " 'chatwheel',\n",
       " 'chatwheel',\n",
       " 'chatwheel',\n",
       " 'chatwheel',\n",
       " 'chatwheel',\n",
       " 'chatwheel',\n",
       " 'chatwheel',\n",
       " 'chatwheel',\n",
       " 'chatwheel',\n",
       " 'chatwheel',\n",
       " 'chatwheel',\n",
       " 'chatwheel',\n",
       " 'chatwheel',\n",
       " 'chatwheel',\n",
       " 'chatwheel',\n",
       " 'chatwheel',\n",
       " 'chatwheel',\n",
       " 'chatwheel',\n",
       " 'chatwheel',\n",
       " 'chatwheel',\n",
       " 'chatwheel',\n",
       " 'chatwheel',\n",
       " 'chatwheel',\n",
       " 'chatwheel',\n",
       " 'chatwheel',\n",
       " 'chatwheel',\n",
       " 'chatwheel',\n",
       " 'chat',\n",
       " 'chat',\n",
       " 'chat',\n",
       " 'chat',\n",
       " 'chatwheel',\n",
       " 'chatwheel',\n",
       " 'chat']"
      ]
     },
     "execution_count": 134,
     "metadata": {},
     "output_type": "execute_result"
    }
   ],
   "source": [
    "[c['type'] for c in one_chat]"
   ]
  },
  {
   "cell_type": "code",
   "execution_count": 135,
   "id": "76ee08f9",
   "metadata": {},
   "outputs": [
    {
     "data": {
      "text/plain": [
       "[{'time': 153,\n",
       "  'type': 'chatwheel',\n",
       "  'key': '9010',\n",
       "  'slot': 3,\n",
       "  'player_slot': 3},\n",
       " {'time': 174,\n",
       "  'type': 'chatwheel',\n",
       "  'key': '19001',\n",
       "  'slot': 6,\n",
       "  'player_slot': 129},\n",
       " {'time': 208,\n",
       "  'type': 'chatwheel',\n",
       "  'key': '9010',\n",
       "  'slot': 3,\n",
       "  'player_slot': 3},\n",
       " {'time': 210, 'type': 'chatwheel', 'key': '69', 'slot': 3, 'player_slot': 3},\n",
       " {'time': 308, 'type': 'chatwheel', 'key': '71', 'slot': 3, 'player_slot': 3},\n",
       " {'time': 364,\n",
       "  'type': 'chatwheel',\n",
       "  'key': '57001',\n",
       "  'slot': 0,\n",
       "  'player_slot': 0},\n",
       " {'time': 407, 'type': 'chatwheel', 'key': '71', 'slot': 0, 'player_slot': 0},\n",
       " {'time': 407, 'type': 'chatwheel', 'key': '71', 'slot': 0, 'player_slot': 0},\n",
       " {'time': 442, 'type': 'chatwheel', 'key': '1', 'slot': 3, 'player_slot': 3},\n",
       " {'time': 444, 'type': 'chatwheel', 'key': '69', 'slot': 3, 'player_slot': 3},\n",
       " {'time': 518, 'type': 'chatwheel', 'key': '7', 'slot': 8, 'player_slot': 131},\n",
       " {'time': 662,\n",
       "  'type': 'chatwheel',\n",
       "  'key': '9010',\n",
       "  'slot': 3,\n",
       "  'player_slot': 3},\n",
       " {'time': 898,\n",
       "  'type': 'chatwheel',\n",
       "  'key': '19002',\n",
       "  'slot': 6,\n",
       "  'player_slot': 129},\n",
       " {'time': 995,\n",
       "  'type': 'chatwheel',\n",
       "  'key': '75001',\n",
       "  'slot': 8,\n",
       "  'player_slot': 131},\n",
       " {'time': 995,\n",
       "  'type': 'chatwheel',\n",
       "  'key': '75004',\n",
       "  'slot': 8,\n",
       "  'player_slot': 131},\n",
       " {'time': 1004, 'type': 'chatwheel', 'key': '7', 'slot': 0, 'player_slot': 0},\n",
       " {'time': 1095,\n",
       "  'type': 'chatwheel',\n",
       "  'key': '75001',\n",
       "  'slot': 8,\n",
       "  'player_slot': 131},\n",
       " {'time': 1161,\n",
       "  'type': 'chatwheel',\n",
       "  'key': '108001',\n",
       "  'slot': 2,\n",
       "  'player_slot': 2},\n",
       " {'time': 1227,\n",
       "  'type': 'chatwheel',\n",
       "  'key': '75001',\n",
       "  'slot': 8,\n",
       "  'player_slot': 131},\n",
       " {'time': 1227,\n",
       "  'type': 'chatwheel',\n",
       "  'key': '75001',\n",
       "  'slot': 8,\n",
       "  'player_slot': 131},\n",
       " {'time': 1367,\n",
       "  'type': 'chatwheel',\n",
       "  'key': '71',\n",
       "  'slot': 8,\n",
       "  'player_slot': 131},\n",
       " {'time': 1367,\n",
       "  'type': 'chatwheel',\n",
       "  'key': '71',\n",
       "  'slot': 8,\n",
       "  'player_slot': 131},\n",
       " {'time': 1411,\n",
       "  'type': 'chatwheel',\n",
       "  'key': '71',\n",
       "  'slot': 9,\n",
       "  'player_slot': 132},\n",
       " {'time': 1411,\n",
       "  'type': 'chatwheel',\n",
       "  'key': '71',\n",
       "  'slot': 9,\n",
       "  'player_slot': 132},\n",
       " {'time': 1437,\n",
       "  'type': 'chatwheel',\n",
       "  'key': '75001',\n",
       "  'slot': 8,\n",
       "  'player_slot': 131},\n",
       " {'time': 1479,\n",
       "  'type': 'chatwheel',\n",
       "  'key': '75001',\n",
       "  'slot': 8,\n",
       "  'player_slot': 131},\n",
       " {'time': 1515,\n",
       "  'type': 'chatwheel',\n",
       "  'key': '19001',\n",
       "  'slot': 6,\n",
       "  'player_slot': 129},\n",
       " {'time': 1606,\n",
       "  'type': 'chatwheel',\n",
       "  'key': '583',\n",
       "  'slot': 8,\n",
       "  'player_slot': 131},\n",
       " {'time': 1676, 'type': 'chatwheel', 'key': '71', 'slot': 4, 'player_slot': 4},\n",
       " {'time': 1746,\n",
       "  'type': 'chatwheel',\n",
       "  'key': '75001',\n",
       "  'slot': 8,\n",
       "  'player_slot': 131},\n",
       " {'time': 1861,\n",
       "  'type': 'chatwheel',\n",
       "  'key': '108001',\n",
       "  'slot': 2,\n",
       "  'player_slot': 2},\n",
       " {'time': 1882, 'type': 'chatwheel', 'key': '2', 'slot': 1, 'player_slot': 1},\n",
       " {'time': 1948, 'type': 'chat', 'key': 'et,biot', 'slot': 4, 'player_slot': 4},\n",
       " {'time': 1949, 'type': 'chat', 'key': 'уебище', 'slot': 4, 'player_slot': 4},\n",
       " {'time': 1954, 'type': 'chat', 'key': '???', 'slot': 8, 'player_slot': 131},\n",
       " {'time': 1955,\n",
       "  'type': 'chat',\n",
       "  'key': 'Посиди в таверне',\n",
       "  'slot': 4,\n",
       "  'player_slot': 4},\n",
       " {'time': 1969,\n",
       "  'type': 'chatwheel',\n",
       "  'key': '108002',\n",
       "  'slot': 2,\n",
       "  'player_slot': 2},\n",
       " {'time': 1969,\n",
       "  'type': 'chatwheel',\n",
       "  'key': '108002',\n",
       "  'slot': 2,\n",
       "  'player_slot': 2},\n",
       " {'time': 1974,\n",
       "  'type': 'chat',\n",
       "  'key': 'Ебанат?',\n",
       "  'slot': 8,\n",
       "  'player_slot': 131}]"
      ]
     },
     "execution_count": 135,
     "metadata": {},
     "output_type": "execute_result"
    }
   ],
   "source": [
    "one_chat"
   ]
  },
  {
   "cell_type": "code",
   "execution_count": 136,
   "id": "529118d7",
   "metadata": {},
   "outputs": [
    {
     "data": {
      "text/plain": [
       "['et,biot', 'уебище', '???', 'Посиди в таверне', 'Ебанат?']"
      ]
     },
     "execution_count": 136,
     "metadata": {},
     "output_type": "execute_result"
    }
   ],
   "source": [
    "[c['key'] for c in one_chat if c['type'] == 'chat']"
   ]
  },
  {
   "cell_type": "code",
   "execution_count": null,
   "id": "4d552524",
   "metadata": {},
   "outputs": [],
   "source": []
  },
  {
   "cell_type": "code",
   "execution_count": null,
   "id": "034b27dd",
   "metadata": {},
   "outputs": [],
   "source": []
  }
 ],
 "metadata": {
  "kernelspec": {
   "display_name": "dota2",
   "language": "python",
   "name": "dota2"
  },
  "language_info": {
   "codemirror_mode": {
    "name": "ipython",
    "version": 3
   },
   "file_extension": ".py",
   "mimetype": "text/x-python",
   "name": "python",
   "nbconvert_exporter": "python",
   "pygments_lexer": "ipython3",
   "version": "3.9.13"
  }
 },
 "nbformat": 4,
 "nbformat_minor": 5
}
